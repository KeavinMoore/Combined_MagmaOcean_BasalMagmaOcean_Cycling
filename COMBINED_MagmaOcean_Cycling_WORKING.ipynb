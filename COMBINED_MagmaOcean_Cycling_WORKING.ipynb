{
 "cells": [
  {
   "cell_type": "markdown",
   "metadata": {},
   "source": [
    "# This notebook uses data from Fig. 2b of Goldblatt+2013 to determine T_surf based on OLR (=incoming flux) when below Simpson-Nakajima limit, and allows calculation of P_surf using fully condensible adiabat for pure water vapour atmosphere; above this threshold, planet is in runaway greenhouse, and all water is in atmosphere, setting P_surf, which allows calculation of T_surf.\n",
    "\n",
    "# ASSUMPTIONS:\n",
    "## XXXXX NO REGASSING WHEN IN RUNAWAY GREENHOUSE!!!! XXXXX\n",
    "## XXXXX CONSTANT KAPPA_ABS, TO CALCULATE P_EFF (i.e., level of emitting layer)!!! XXXXX\n",
    "## XXXXX MINIMUM VALUE OF WATER IN MANTLE SAME AS SURFACE DESICCATION LIMIT, TO AVOID ETA --> INFINITY!!!! XXXXX\n",
    "\n",
    "## - Luger & Barnes assume 10 Myr formation time; Earth's magma ocean phase ~1.5 Myr; since this is extended around M dwarfs (Lebrun+13), let's assume a magma ocean time of 10 Myr; then, stellar track offset 20 Myr!   XXXXX NOTE, HOWEVER, THAT BARTH+ (2020) ASSUME A DISK LIFETIME OF 5 Myr AT BEGINNING OF MAGMA OCEAN, AND SHOW SOLIDIFICATION TIMESCALES FOR DIFFERENT INITIAL WATER INVENTORIES!!!! XXXXX\n",
    "## - CONSTANT thermospheric temperature = 400 K (diffusion-limited escape)\n",
    "## - Pure H2O atmosphere\n",
    "## - Fully condensible adiabat troposphere & isothermal stratosphere\n",
    "## Simpson-Nakajima limit on outgoing radiation of 282 W/m^2 (Goldblatt+ 2013)"
   ]
  },
  {
   "cell_type": "markdown",
   "metadata": {},
   "source": [
    "# THINGS TO TEST:\n",
    "\n",
    "## - TWO DIFFERENT ALBEDOS (0.3, Earth-like; 0.75, steam atmosphere)\n",
    "## - TWO DIFFERENT MAGMA OCEAN SOLIDIFICATION TIME OFFSETS -- 20 Myr (or even shorter) & 100 Myr?"
   ]
  },
  {
   "cell_type": "markdown",
   "metadata": {},
   "source": [
    "######################################################################################################################"
   ]
  },
  {
   "cell_type": "markdown",
   "metadata": {},
   "source": [
    "# Initialize notebook; import required functions/packages, and read in input parameters/variables from .txt files."
   ]
  },
  {
   "cell_type": "code",
   "execution_count": 1,
   "metadata": {},
   "outputs": [
    {
     "name": "stdout",
     "output_type": "stream",
     "text": [
      "Populating the interactive namespace from numpy and matplotlib\n"
     ]
    }
   ],
   "source": [
    "%pylab inline\n",
    "import math\n",
    "import numpy as np\n",
    "import scipy\n",
    "import matplotlib\n",
    "import matplotlib.pyplot as plt\n",
    "import matplotlib.cm as cm\n",
    "from pylab import *\n",
    "from scipy.integrate import ode\n",
    "#from mpl_toolkits.axes_grid.inset_locator import inset_axes\n",
    "import time\n",
    "import os.path"
   ]
  },
  {
   "cell_type": "markdown",
   "metadata": {},
   "source": [
    "### XXXX Should probably include new global constants required for 1-D atmosphere/loss calculations in the below cell."
   ]
  },
  {
   "cell_type": "code",
   "execution_count": 2,
   "metadata": {},
   "outputs": [],
   "source": [
    "# Need to divide constants into three categories --\n",
    "# XXXX SEE OTHER RECODED NOTEBOOK FOR DESCRIPTIONS OF ALL CONSTANTS XXXX\n",
    "\n",
    "# 1) Unchanging constants\n",
    "# [M_E, R_E, d_hE, rho_c, rho_m, f_degasE, G, P_E, year, omega_E, x_E, E_a, R_g, T_liq_dry, T_sol_dry]\n",
    "\n",
    "params1 = np.loadtxt('const_params.txt')\n",
    "M_E, R_E, d_hE, rho_c, rho_m, f_degasE, G, P_E, year, omega_E, x_E, E_a, R_g, T_liq_dry, T_sol_dry = params1\n",
    "\n",
    "# 2) Varied parameters\n",
    "# [x_h, chi, d_melt, f_M, f_b, f_btwid, alpha, Ra_c, kappa, T_ref, k, beta, c_p, Q_0, T_s, theta, \\\n",
    "#  T_serp, K_cnst, gamma, r_fug, d_b]\n",
    "\n",
    "params2 = np.loadtxt('vary_params.txt')\n",
    "x_h, chi, d_melt, f_M, f_b, f_btwid, alpha, Ra_c, kappa, T_ref, k, beta, c_p, Q_0, T_s, theta, \\\n",
    "     T_serp, K_cnst, gamma, r_fug, d_b, f_w_min = params2\n",
    "# Test different betas; see if the code breaks\n",
    "#beta = 0.12\n",
    "#params2[11] = beta\n",
    "\n",
    "# 3) Changing parameters\n",
    "# [omega_0, num_oceans, sigma, mu, t_loss, loss_factor, chi_d, chi_r, dt]\n",
    "\n",
    "params3 = np.loadtxt('change_params.txt')\n",
    "omega_0, num_oceans, sigma, mu, t_loss, loss_factor, chi_d, chi_r, dt_nom = params3\n",
    "dt_nom = 2.0e4*year\n",
    "params3[8] = dt_nom\n",
    "\n",
    "# NEW constants, for 1-D atmosphere calculations\n",
    "sigma_sb = 5.67e-8 #[W/m^2/K^4]; Stefan-Boltzmann constant\n",
    "m_H = 1.66e-27 #[kg]; mass of H atom\n",
    "k_B = 1.38e-23 #[m^2 kg s^-2 K^-1]; Boltzmann constant\n",
    "m_H2O = 18.02*m_H #molecular mass of water\n",
    "m_air = 28.7*m_H #molecular mass of air on Earth\n",
    "rho_water = 997. #[kg/m^3]; density of water\n",
    "cp_water_vapour = 1.996e3 #[J/(kg K)]; specific heat capacity of water vapour (steam)"
   ]
  },
  {
   "cell_type": "markdown",
   "metadata": {},
   "source": [
    "## INPUT PARAMETERS: Planet orbital distance and albedo\n",
    "### XXXX TEST 2 DIFFERENT ALBEDOS TO BRACKET RESULTS XXXX"
   ]
  },
  {
   "cell_type": "code",
   "execution_count": 3,
   "metadata": {},
   "outputs": [],
   "source": [
    "# Parameters of orbiting planet (can be changed later).\n",
    "a_orb = 0.06*1.496e11 #[m], roughly middle of HZ around Proxima Cen\n",
    "alb = 0.3 #albedo; value roughly similar to Earth\n",
    "#alb = 0.75 #albedo; upper limit to roughly test \"steam atmosphere\""
   ]
  },
  {
   "cell_type": "markdown",
   "metadata": {},
   "source": [
    "# Model Functions/Calculated Constants"
   ]
  },
  {
   "cell_type": "code",
   "execution_count": 4,
   "metadata": {},
   "outputs": [],
   "source": [
    "## WATER FUGACITY\n",
    "# Need to calculate non-dimensional water fugacity at each step.\n",
    "# Formula original from Li et al. (2008), based on experimental data.\n",
    "def lnf_w(x, params1, params2, params3): #NOTE: Takes non-dimensionalized mantle water mass fraction and converts it.\n",
    "    c0 = -7.9859\n",
    "    c1 = 4.3559\n",
    "    c2 = -0.5742\n",
    "    c3 = 0.0337\n",
    "    B = 2.0e6\n",
    "    mu_oliv = 153.31\n",
    "    mu_wat = 18.01528\n",
    "    \n",
    "    M_E, R_E, d_hE, rho_c, rho_m, f_degasE, G, P_E, year, omega_E, x_E, E_a, R_g, T_liq_dry, T_sol_dry = params1\n",
    "    x_h, chi, d_melt, f_M, f_b, f_btwid, alpha, Ra_c, kappa, T_ref, k, beta, c_p, Q_0, T_s, theta, \\\n",
    "        T_serp, K_cnst, gamma, r_fug, d_b, f_w_min = params2\n",
    "    omega_0, num_oceans, sigma, mu, t_loss, loss_factor, chi_d, chi_r, dt_nom = params3\n",
    "    \n",
    "    ln_term = np.log((B*x*(mu_oliv/mu_wat))/(1.-(x*(mu_oliv/mu_wat))))\n",
    "    \n",
    "    return c0 + c1*ln_term + c2*ln_term**2. + c3*ln_term**3.\n",
    "\n",
    "def f_w(x, params1, params2, params3):\n",
    "    \n",
    "    return np.exp(lnf_w(x, params1, params2, params3))"
   ]
  },
  {
   "cell_type": "code",
   "execution_count": 5,
   "metadata": {},
   "outputs": [],
   "source": [
    "## MANTLE VISCOSITY\n",
    "\n",
    "# Need a function to calculate the viscosity.\n",
    "def eta(temp, x, params1, params2, params3): #x and T are non-dimensionalized later in code -- need to add dimensions back for these calculations\n",
    "    M_E, R_E, d_hE, rho_c, rho_m, f_degasE, G, P_E, year, omega_E, x_E, E_a, R_g, T_liq_dry, T_sol_dry = params1\n",
    "    x_h, chi, d_melt, f_M, f_b, f_btwid, alpha, Ra_c, kappa, T_ref, k, beta, c_p, Q_0, T_s, theta, \\\n",
    "        T_serp, K_cnst, gamma, r_fug, d_b, f_w_min = params2\n",
    "    omega_0, num_oceans, sigma, mu, t_loss, loss_factor, chi_d, chi_r, dt_nom = params3\n",
    "    \n",
    "    eta_scale = (np.exp(lnf_w(5.8e-4,params1,params2,params3)))**(-r_fug)\n",
    "    eta_0 = 1.0e21/eta_scale\n",
    "        \n",
    "    # Need a minimum fugacity, to avoid f_w --> 0 and eta --> infinity.\n",
    "    # Let's take the 'desiccation limit' for the surface as the minimum value to be 'trapped' in the mantle.\n",
    "    if x <= 1.29e16/(f_M*M_E):\n",
    "        return eta_0*(f_w(1.29e16/(f_M*M_E), params1, params2, params3)**(-r_fug)) * np.exp((E_a/R_g)*((1./temp) - (1./T_ref)))\n",
    "    else:\n",
    "        return eta_0*(f_w(x, params1, params2, params3)**(-r_fug)) * np.exp((E_a/R_g)*((1./temp) - (1./T_ref)))\n",
    "    \n",
    "    #if f_w(x, params1, params2, params3) > f_w_min:\n",
    "    #    return eta_0 * (f_w(x, params1, params2, params3)**(-r_fug)) * np.exp((E_a/R_g)*((1./temp) - (1./T_ref)))\n",
    "    #elif f_w(x, params1, params2, params3) <= f_w_min:\n",
    "    #    return eta_0 * (f_w_min**(-r_fug)) * np.exp((E_a/R_g)*((1./temp) - (1./T_ref)))"
   ]
  },
  {
   "cell_type": "code",
   "execution_count": 6,
   "metadata": {},
   "outputs": [],
   "source": [
    "def Rp(M):\n",
    "    M_E = 5.972e24\n",
    "    R_E = 6.371e6\n",
    "    return R_E*(M/M_E)**0.27\n",
    "\n",
    "def Rc(M):\n",
    "    M_E = 5.972e24\n",
    "    R_E = 6.371e6\n",
    "    return 0.547*R_E*(M/M_E)**0.25\n",
    "\n",
    "def h(M):\n",
    "    return Rp(M) - Rc(M)\n",
    "\n",
    "def g(M):\n",
    "    G = 6.67e-11\n",
    "    return G*M/(Rp(M)**2.)\n",
    "\n",
    "def A(M):\n",
    "    return 4.*np.pi*(Rp(M)**2.)\n",
    "\n",
    "def V(M):\n",
    "    return (4.*np.pi/3.)*((Rp(M)**3.) - (Rc(M)**3.))\n",
    "\n",
    "def F_0(M, params1, params2, params3):\n",
    "    \n",
    "    M_E, R_E, d_hE, rho_c, rho_m, f_degasE, G, P_E, year, omega_E, x_E, E_a, R_g, T_liq_dry, T_sol_dry = params1\n",
    "    x_h, chi, d_melt, f_M, f_b, f_btwid, alpha, Ra_c, kappa, T_ref, k, beta, c_p, Q_0, T_s, theta, \\\n",
    "        T_serp, K_cnst, gamma, r_fug, d_b, f_w_min = params2\n",
    "    omega_0, num_oceans, sigma, mu, t_loss, loss_factor, chi_d, chi_r, dt_nom = params3\n",
    "    \n",
    "    eta_scale = (np.exp(lnf_w(1.,params1,params2,params3)))**(-r_fug)\n",
    "    eta_0 = 1.e21/eta_scale\n",
    "\n",
    "    f_w = np.exp(lnf_w(5.8e-4,params1,params2,params3))\n",
    "    return (k*(T_ref**(1.+beta))*A(M)/(h(M)*V(M)))*(alpha*rho_m*g(M)*(h(M)**3.)*f_w/(Ra_c*kappa*eta_0))**beta\n",
    "\n",
    "def L_MOR(M):\n",
    "    return 1.5*2.*np.pi*Rp(M)\n",
    "\n",
    "def S(t, temp, x, T_surf, M, params1, params2, params3):\n",
    "    \n",
    "    M_E, R_E, d_hE, rho_c, rho_m, f_degasE, G, P_E, year, omega_E, x_E, E_a, R_g, T_liq_dry, T_sol_dry = params1\n",
    "    x_h, chi, d_melt, f_M, f_b, f_btwid, alpha, Ra_c, kappa, T_ref, k, beta, c_p, Q_0, T_s, theta, \\\n",
    "        T_serp, K_cnst, gamma, r_fug, d_b, f_w_min = params2\n",
    "    omega_0, num_oceans, sigma, mu, t_loss, loss_factor, chi_d, chi_r, dt_nom = params3\n",
    "    \n",
    "    return 10.76*(kappa**(1.-2.*beta))*(h(M)**(6.*beta-1.))*((alpha*rho_m*g(M)*\\\n",
    "            (temp-T_surf)/(eta(temp,x,params1,params2,params3)*Ra_c))**(2.*beta))\n",
    "\n",
    "def tau(M, params1, params2, params3): #useful for converting between different non-dimensional timescales\n",
    "    \n",
    "    M_E, R_E, d_hE, rho_c, rho_m, f_degasE, G, P_E, year, omega_E, x_E, E_a, R_g, T_liq_dry, T_sol_dry = params1\n",
    "    x_h, chi, d_melt, f_M, f_b, f_btwid, alpha, Ra_c, kappa, T_ref, k, beta, c_p, Q_0, T_s, theta, \\\n",
    "        T_serp, K_cnst, gamma, r_fug, d_b, f_w_min = params2\n",
    "    omega_0, num_oceans, sigma, mu, t_loss, loss_factor, chi_d, chi_r, dt_nom = params3\n",
    "    \n",
    "    return (L_MOR(M)*(0.1/year)*x_h*rho_c*chi*d_hE)/(M*omega_0*f_btwid) #spreading rate independent of temp in this model\n",
    "\n",
    "def Ra(t, temp, x, T_surf, M, params1, params2, params3):\n",
    "    \n",
    "    M_E, R_E, d_hE, rho_c, rho_m, f_degasE, G, P_E, year, omega_E, x_E, E_a, R_g, T_liq_dry, T_sol_dry = params1\n",
    "    x_h, chi, d_melt, f_M, f_b, f_btwid, alpha, Ra_c, kappa, T_ref, k, beta, c_p, Q_0, T_s, theta, \\\n",
    "        T_serp, K_cnst, gamma, r_fug, d_b, f_w_min = params2\n",
    "    omega_0, num_oceans, sigma, mu, t_loss, loss_factor, chi_d, chi_r, dt_nom = params3\n",
    "    \n",
    "    return (alpha*rho_m*g(M)*(temp - T_surf)*(h(M)**3))/(eta(temp, x, params1, params2, params3)*kappa)\n",
    "\n",
    "# Nusselt number, for looking at heat flux\n",
    "def Nu(temp, x, T_surf, M, params1, params2, params3):\n",
    "    \n",
    "    M_E, R_E, d_hE, rho_c, rho_m, f_degasE, G, P_E, year, omega_E, x_E, E_a, R_g, T_liq_dry, T_sol_dry = params1\n",
    "    x_h, chi, d_melt, f_M, f_b, f_btwid, alpha, Ra_c, kappa, T_ref, k, beta, c_p, Q_0, T_s, theta, \\\n",
    "        T_serp, K_cnst, gamma, r_fug, d_b, f_w_min = params2\n",
    "    omega_0, num_oceans, sigma, mu, t_loss, loss_factor, chi_d, chi_r, dt_nom = params3\n",
    "    \n",
    "    return (Ra(t, temp, x, T_surf, M, params1, params2, params3)/Ra_c)**beta"
   ]
  },
  {
   "cell_type": "markdown",
   "metadata": {},
   "source": [
    "# Run MO simulation here."
   ]
  },
  {
   "cell_type": "code",
   "execution_count": 7,
   "metadata": {},
   "outputs": [
    {
     "name": "stdout",
     "output_type": "stream",
     "text": [
      "Stellar age:  504322.1001372358 years\n"
     ]
    }
   ],
   "source": [
    "# Stellar evolution and surface temperature calculations\n",
    "\n",
    "# Stellar evolution track for 0.13 Msun star (similar to Proxima Cen), from Baraffe+ 2015\n",
    "# Read in stellar evolution track data\n",
    "data = np.loadtxt('BHAC15_0.13Msun.txt', skiprows=3)\n",
    "#data = np.loadtxt('BHAC15_0.3Msun.txt', skiprows=3)\n",
    "log_age = data[:,1] #log(yr)\n",
    "T_eff = data[:,2] #[K]\n",
    "Lbol_Ls = data[:,3] #log luminosity\n",
    "R_Rs = data[:,5]\n",
    "\n",
    "Ls = 3.839e33 # [erg/s]; solar bolometric luminosity\n",
    "Lbol = np.zeros(len(Lbol_Ls))\n",
    "for idx in range(0,len(Lbol_Ls)):    \n",
    "    Lbol[idx] = (10.**Lbol_Ls[idx])*Ls/1.0e7 #[W]\n",
    "    \n",
    "Rs = 6.96e10 #[cm]; solar radius\n",
    "Rstar = (R_Rs*Rs)/100.0 #[m]\n",
    "\n",
    "star_age = np.zeros(len(log_age)) #[s], for later calculations\n",
    "\n",
    "# Convert stellar age to time, in seconds.\n",
    "for idx in range(0,len(log_age)):\n",
    "    star_age[idx] = ((10.0**log_age[idx])*year)\n",
    "    \n",
    "print('Stellar age: ', star_age[0]/year, 'years')\n",
    "#print(star_age[0])\n",
    "    \n",
    "# Calculate the top-of-atmosphere bolometric flux, from BHAC15 model.\n",
    "def S_0(t, M, a_orb, params1, params2, params3):\n",
    "        \n",
    "    M_E, R_E, d_hE, rho_c, rho_m, f_degasE, G, P_E, year, omega_E, x_E, E_a, R_g, T_liq_dry, T_sol_dry = params1\n",
    "    x_h, chi, d_melt, f_M, f_b, f_btwid, alpha, Ra_c, kappa, T_ref, k, beta, c_p, Q_0, T_s, theta, \\\n",
    "        T_serp, K_cnst, gamma, r_fug, d_b, f_w_min = params2\n",
    "    omega_0, num_oceans, sigma, mu, t_loss, loss_factor, chi_d, chi_r, dt_nom = params3\n",
    "    \n",
    "    t_int = t + (5.0e6*year) #add offset of 5 Myr, to account for formation\n",
    "    \n",
    "    return np.interp(t_int, star_age, Lbol)/(4.*np.pi*(a_orb**2.))\n",
    "    \n",
    "# Calculate evolution of XUV luminosity (Luger & Barnes 2015; Ribas+ 2005)\n",
    "def L_XUV(t, M, params1, params2, params3):\n",
    "        \n",
    "    M_E, R_E, d_hE, rho_c, rho_m, f_degasE, G, P_E, year, omega_E, x_E, E_a, R_g, T_liq_dry, T_sol_dry = params1\n",
    "    x_h, chi, d_melt, f_M, f_b, f_btwid, alpha, Ra_c, kappa, T_ref, k, beta, c_p, Q_0, T_s, theta, \\\n",
    "        T_serp, K_cnst, gamma, r_fug, d_b, f_w_min = params2\n",
    "    omega_0, num_oceans, sigma, mu, t_loss, loss_factor, chi_d, chi_r, dt_nom = params3\n",
    "    \n",
    "    t_int = t + (5.0e6*year) #add offset of 5 Myr, to account for formation\n",
    "  \n",
    "    f_sat = 1.0e-3 #saturation fraction\n",
    "    t_sat = 1.0e9*year #[s], saturation timescale, XXXX SHOULD VARY THIS WHEN TESTING, BASED ON RECENT PAPERS!!! XXXX\n",
    "    beta_XUV = -1.23\n",
    "    \n",
    "    if t <= t_sat:\n",
    "        return f_sat*np.interp(t_int, star_age, Lbol)\n",
    "    else: #t > t_sat\n",
    "        return f_sat*((t_int/t_sat)**beta_XUV)*np.interp(t_int, star_age, Lbol)\n",
    "\n",
    "# Calculate top-of-atmosphere XUV flux. \n",
    "def F_XUV(t, M, a_orb, params1, params2, params3):\n",
    "        \n",
    "    M_E, R_E, d_hE, rho_c, rho_m, f_degasE, G, P_E, year, omega_E, x_E, E_a, R_g, T_liq_dry, T_sol_dry = params1\n",
    "    x_h, chi, d_melt, f_M, f_b, f_btwid, alpha, Ra_c, kappa, T_ref, k, beta, c_p, Q_0, T_s, theta, \\\n",
    "        T_serp, K_cnst, gamma, r_fug, d_b, f_w_min = params2\n",
    "    omega_0, num_oceans, sigma, mu, t_loss, loss_factor, chi_d, chi_r, dt_nom = params3\n",
    "        \n",
    "    return L_XUV(t, M, params1, params2, params3)/(4.*np.pi*(a_orb**2.))\n",
    "\n",
    "# Calculate the effective temperature of the planet.\n",
    "def f_T_eff(t, M, a_orb, params1, params2, params3):\n",
    "    \n",
    "    M_E, R_E, d_hE, rho_c, rho_m, f_degasE, G, P_E, year, omega_E, x_E, E_a, R_g, T_liq_dry, T_sol_dry = params1\n",
    "    x_h, chi, d_melt, f_M, f_b, f_btwid, alpha, Ra_c, kappa, T_ref, k, beta, c_p, Q_0, T_s, theta, \\\n",
    "        T_serp, K_cnst, gamma, r_fug, d_b, f_w_min = params2\n",
    "    omega_0, num_oceans, sigma, mu, t_loss, loss_factor, chi_d, chi_r, dt_nom = params3\n",
    "    \n",
    "    return ((S_0(t, M, a_orb, params1, params2, params3)*(1.0-alb))/(4.0*sigma_sb))**(0.25)\n",
    "\n",
    "# Calculate the skin temperature (i.e., the isothermal stratosphere temperature). [K]\n",
    "def T_strat(t, M, a_orb, params1, params2, params3):\n",
    "    \n",
    "    M_E, R_E, d_hE, rho_c, rho_m, f_degasE, G, P_E, year, omega_E, x_E, E_a, R_g, T_liq_dry, T_sol_dry = params1\n",
    "    x_h, chi, d_melt, f_M, f_b, f_btwid, alpha, Ra_c, kappa, T_ref, k, beta, c_p, Q_0, T_s, theta, \\\n",
    "        T_serp, K_cnst, gamma, r_fug, d_b, f_w_min = params2\n",
    "    omega_0, num_oceans, sigma, mu, t_loss, loss_factor, chi_d, chi_r, dt_nom = params3\n",
    "    \n",
    "    return ((1./2.)**0.25)*((S_0(t, M, a_orb, params1, params2, params3)*(1.0-alb))/(4.0*sigma_sb))**(0.25)"
   ]
  },
  {
   "cell_type": "code",
   "execution_count": 8,
   "metadata": {},
   "outputs": [],
   "source": [
    "# Based on Fig. 3 of Barth+2020, Fig. 4 of Schaefer+2016\n",
    "def d_MO(t, M): \n",
    "    \n",
    "    d_MO_0 = h(M) # ENTIRE MANTLE BEGINS MOLTEN ##2000.0e3 #[m]\n",
    "    beta_MO = 1./(np.exp(1.)-1)\n",
    "    \n",
    "    # TEST MULTIPLE TIMESCALES FOR NOMINAL MODEL -- 10, 50, 100 Myr (50 Myr as nominal)\n",
    "    tau_MO = 50.0e6*year #conservatively chosen estimate, for mid-HZ, from Barth+2020 Fig. 5\n",
    "    # XXXXX MO TIMESCALE SHOULD DEPEND ON INITIAL WATER INVENTORY + ORBITAL DISTANCE (~XUV flux)!!!!\n",
    "    \n",
    "#    return d_MO_0*np.exp((-t + tau_RG(M, a_orb, alb, params1, params2, params3))/(tau_RG(M, a_orb, alb, params1, params2, params3))) - d_MO_0\n",
    "#    return (beta_MO*d_MO_0)*np.exp((-t/tau_RG(M, a_orb, alb, params1, params2, params3)) + 1.) - (beta_MO*d_MO_0)\n",
    "#    return (beta_MO*d_MO_0)*(np.exp((-t/tau_RG(M, a_orb, alb, params1, params2, params3)) + 1.) - 1)\n",
    "    return (beta_MO*d_MO_0)*(np.exp((-t/tau_MO) + 1.) - 1)\n",
    "\n",
    "# Temperature of MO as a function of MO depth, using liquidus temperature (Eqn. 1 of Elkins-Tanton 2008)\n",
    "def T_MO(t, M, a_orb, params1, params2, params3):\n",
    "    \n",
    "    r = (Rp(M) - d_MO(t, M))/1000. #[km]\n",
    "    \n",
    "    return (-1.16e-7*(r**3.)) + (0.0014*(r**2.)) - (6.382*r) + 1.444e4\n",
    "\n",
    "def T_sol(r):\n",
    "    \n",
    "    return (-1.16e-7*(r**3.)) + (0.0014*(r**2.)) - (6.382*r) + 1.444e4"
   ]
  },
  {
   "cell_type": "markdown",
   "metadata": {},
   "source": [
    "## Set the initial amount of water in the MO, and calculate the initial concentration."
   ]
  },
  {
   "cell_type": "code",
   "execution_count": 9,
   "metadata": {},
   "outputs": [],
   "source": [
    "# Initial mass of water in MO\n",
    "M_init = 10.*1.4e21 #[kg]\n",
    "\n",
    "# Initial/constant parameters\n",
    "D = 0.001 #0.001 OR 0.1 (more water stored in mantle for larger D) #solid-liquid H2O distribution coefficient\n",
    "R_p = Rp(M_E)/1000. #[km] #6400 km\n",
    "R_c = Rc(M_E)/1000. #[km] #3000 km\n",
    "rho = 3.0e3*1.0e9 #[kg/km^3] \n",
    "rho_MO = rho #density of MO [kg/km^3] \n",
    "#rho_m = rho\n",
    "\n",
    "# Saturation concentration & initial concentration of water in MO\n",
    "C_sat = 0.1 #0.1 OR 0.01 (degassing earlier with lower C_sat) #[wt fraction]; H2O saturation limit of MO\n",
    "#C_0 = 0.005 #[wt fraction]; initial H2O concentration of MO\n",
    "C_0 = (3.*M_init)/(4.*np.pi*rho*(R_p**3. - R_c**3.))\n",
    "\n",
    "# Required functions -- RECALL (r = R_p - d_MO(t))\n",
    "def C_l(r):\n",
    "    \n",
    "    return C_0*((R_p**3.-R_c**3.)/(R_p**3.-r**3.))**(1.-D)\n",
    "\n",
    "def C_s(r):\n",
    "    \n",
    "    return D*C_l(r)\n",
    "\n",
    "def R_sat():\n",
    "    \n",
    "    return (R_p**3. - ((R_p**3. - R_c**3.)/((C_sat/C_0)**(1./(1.-D)))))**(1./3.)\n",
    "\n",
    "def M_MO_unsat(r):\n",
    "    \n",
    "    return C_l(r)*(4.*np.pi/3.)*rho_MO*(R_p**3. - r**3.)\n",
    "\n",
    "def M_SM_unsat(r):\n",
    "    \n",
    "    return C_0*(4.*np.pi/3.)*(rho_m*1.0e9)*((R_p**3. - R_c**3.)**(1.-D))*\\\n",
    "            (((R_p**3. - R_c**3.)**D) - ((R_p**3. - r**3.)**D))\n",
    "\n",
    "def M_MO_sat(r):\n",
    "    \n",
    "    return C_sat*(4.*np.pi/3.)*rho_MO*(R_p**3. - r**3.)\n",
    "\n",
    "def M_SM_sat(r):\n",
    "    \n",
    "    return M_SM_unsat(R_sat()) + D*C_sat*(4.*np.pi/3.)*(rho_m*1.0e9)*(r**3.-R_sat()**3.)"
   ]
  },
  {
   "cell_type": "code",
   "execution_count": 10,
   "metadata": {},
   "outputs": [
    {
     "name": "stdout",
     "output_type": "stream",
     "text": [
      "0.005151293448983992\n"
     ]
    }
   ],
   "source": [
    "print(C_0)"
   ]
  },
  {
   "cell_type": "code",
   "execution_count": 11,
   "metadata": {},
   "outputs": [],
   "source": [
    "def loss_rate_EL_MO(t, F_XUV, M): #[kg/s]\n",
    "    \n",
    "    # R_XUV = XUV deposition radius; LB15 set R_XUV = R_p for simplicity\n",
    "    # M = planetary mass\n",
    "    R_p = Rp(M) #[m]\n",
    "    \n",
    "    G = 6.67e-11\n",
    "    eps_XUV = 0.1 #nominal; LB15 test 0.15-0.30\n",
    "    \n",
    "    return eps_XUV*np.pi*F_XUV*(R_p**3.)/(G*M)"
   ]
  },
  {
   "cell_type": "code",
   "execution_count": 12,
   "metadata": {},
   "outputs": [],
   "source": [
    "# Loop to determine whether or not MO is saturated & degas an atmosphere if it is\n",
    "dt_MO = 2.0e3*year #2000 yr per timestep\n",
    "t_MO_array = np.arange(0., (50.0e6*year+dt_MO), dt_MO) # 50 Myr; equivalent to MO solidification timescale\n",
    "\n",
    "M = M_E\n",
    "\n",
    "# Initial water inventory\n",
    "#M_init = C_0*(4.*np.pi/3.)*rho*(R_p**3. - R_c**3.) #[kg]; 10 Earth Oceans (where 1 EO = 1.4e21 kg)\n",
    "M_init = 10.*1.4e21 #[kg]\n",
    "\n",
    "r_array = R_p - d_MO(t_MO_array, M) #[km]\n",
    "#r_array = np.arange(3000., 6400., 50.)\n",
    "M_MO_array = np.zeros(len(r_array))\n",
    "M_SM_array = np.zeros(len(r_array))\n",
    "M_atmo_array = np.zeros(len(r_array))\n",
    "EL_loss_MO_array = np.zeros(len(r_array))\n",
    "a_orb = 0.06727532*1.496e11 #[m]\n",
    "\n",
    "# Track MO temperature as a function of r/t.\n",
    "T_MO_array = np.zeros(len(t_MO_array))\n",
    "\n",
    "# Keep track of the total water inventory, since it decreases with loss.\n",
    "M_total = M_init\n",
    "\n",
    "for idx in range(0,len(r_array)):\n",
    "    \n",
    "    EL_loss_MO_array[idx] = loss_rate_EL_MO(t_MO_array[idx], F_XUV(t_MO_array[idx], M, a_orb, params1, params2, params3), M_E)\n",
    "    T_MO_array[idx] = T_MO(t_MO_array[idx], M, a_orb, params1, params2, params3)\n",
    "\n",
    "    #MO undersaturated with water, i.e., r <= R_sat\n",
    "    if r_array[idx] <= R_sat():\n",
    "        \n",
    "        M_MO_array[idx] = M_MO_unsat(r_array[idx])\n",
    "        \n",
    "        M_SM_array[idx] = M_SM_unsat(r_array[idx])\n",
    "        \n",
    "        M_atmo_array[idx] = 0.\n",
    "        \n",
    "    # MO saturated/supersaturated with water (r > R_sat); atmosphere forms    \n",
    "    else: #r_array[idx] > R_sat()\n",
    "        \n",
    "        M_MO_array[idx] = M_MO_sat(r_array[idx])\n",
    "        \n",
    "        M_SM_array[idx] = M_SM_sat(r_array[idx])\n",
    "        \n",
    "        M_atmo_array[idx] = M_total - M_SM_sat(r_array[idx]) - M_MO_sat(r_array[idx])\n",
    "        \n",
    "        # Now add loss:\n",
    "        if M_atmo_array[idx] <= (EL_loss_MO_array[idx]*dt_MO):\n",
    "            \n",
    "            M_total = M_total - M_atmo_array[idx]\n",
    "            M_atmo_array[idx] = 0.\n",
    "            \n",
    "        else: #M_atmo_array[idx] > (EL_loss_array[idx]*dt_MO)\n",
    "            \n",
    "            M_atmo_array[idx] = M_atmo_array[idx] - (EL_loss_MO_array[idx]*dt_MO)\n",
    "            M_total = M_total - (EL_loss_MO_array[idx]*dt_MO)"
   ]
  },
  {
   "cell_type": "code",
   "execution_count": 13,
   "metadata": {},
   "outputs": [
    {
     "name": "stdout",
     "output_type": "stream",
     "text": [
      "R_sat:  6278.441332447913 km\n",
      "Saturated at t =  49.998 Myr\n",
      "24999\n",
      "25001\n"
     ]
    }
   ],
   "source": [
    "print('R_sat: ', R_sat(), 'km')\n",
    "for idx in range(0,len(r_array)):\n",
    "    \n",
    "    if r_array[idx] > R_sat():\n",
    "        \n",
    "        sat_idx = idx\n",
    "        break\n",
    "        \n",
    "print('Saturated at t = ', t_MO_array[sat_idx]/year/1.0e6, 'Myr')\n",
    "print(sat_idx)\n",
    "print(len(t_MO_array))"
   ]
  },
  {
   "cell_type": "code",
   "execution_count": 14,
   "metadata": {},
   "outputs": [
    {
     "name": "stdout",
     "output_type": "stream",
     "text": [
      "Initial water =  10.0 Earth Oceans\n",
      "Final water =  9.999968323366199 Earth Oceans\n",
      "Water lost =  3.1676633800469945e-05 Earth Oceans\n"
     ]
    }
   ],
   "source": [
    "print('Initial water = ', M_init/1.4e21, 'Earth Oceans')\n",
    "print('Final water = ', M_total/1.4e21, 'Earth Oceans')\n",
    "print('Water lost = ', (M_init - M_total)/1.4e21, 'Earth Oceans')"
   ]
  },
  {
   "cell_type": "code",
   "execution_count": 15,
   "metadata": {},
   "outputs": [
    {
     "name": "stdout",
     "output_type": "stream",
     "text": [
      "Max possible water lost, once atmosphere forms:  3.1676633800371255e-05 Earth Oceans\n",
      "Max possible water lost, if EL the entire time:  0.7591310691813022 Earth Oceans\n"
     ]
    }
   ],
   "source": [
    "print('Max possible water lost, once atmosphere forms: ', (np.sum(EL_loss_MO_array[sat_idx:])*dt_MO)/1.4e21, 'Earth Oceans')\n",
    "print('Max possible water lost, if EL the entire time: ', (np.sum(EL_loss_MO_array)*dt_MO)/1.4e21, 'Earth Oceans')"
   ]
  },
  {
   "cell_type": "code",
   "execution_count": 16,
   "metadata": {},
   "outputs": [
    {
     "data": {
      "text/plain": [
       "<matplotlib.legend.Legend at 0x7f8d8a0df6d8>"
      ]
     },
     "execution_count": 16,
     "metadata": {},
     "output_type": "execute_result"
    },
    {
     "data": {
      "image/png": "[encoded data removed]",
      "text/plain": [
       "<Figure size 612x432 with 1 Axes>"
      ]
     },
     "metadata": {
      "needs_background": "light"
     },
     "output_type": "display_data"
    }
   ],
   "source": [
    "%matplotlib inline\n",
    "\n",
    "plt.rc('font', family='serif')\n",
    "plt.rc('xtick', labelsize=16)\n",
    "plt.rc('ytick', labelsize=16)\n",
    "fig = plt.figure(figsize=(8.5,6))\n",
    "plt.tight_layout()\n",
    "\n",
    "plt.semilogy(r_array, M_MO_array/1.4e21, color='r', linestyle='--', linewidth=3, label='magma ocean')\n",
    "plt.semilogy(r_array, M_SM_array/1.4e21, color='k', linestyle='--', linewidth=3, label='solid mantle')\n",
    "plt.semilogy(r_array, M_atmo_array/1.4e21, color='b', linestyle='--', linewidth=3, label='atmosphere')\n",
    "plt.axvline(x=R_sat(), color='r', linestyle='-.', label=r'$R_\\mathrm{{sat}}$')\n",
    "plt.xlabel('Location of bottom of MO [km]', fontsize=16)\n",
    "plt.ylabel('Mass [Earth Oceans]', fontsize=16)\n",
    "plt.xlim(3000., Rp(M)/1000.)\n",
    "plt.ylim(0.005, 110.)\n",
    "plt.legend(loc='lower left', fontsize=16)"
   ]
  },
  {
   "cell_type": "code",
   "execution_count": 17,
   "metadata": {},
   "outputs": [
    {
     "data": {
      "text/plain": [
       "<matplotlib.legend.Legend at 0x7f8d8a4eba58>"
      ]
     },
     "execution_count": 17,
     "metadata": {},
     "output_type": "execute_result"
    },
    {
     "data": {
      "image/png": "[encoded data removed]",
      "text/plain": [
       "<Figure size 612x432 with 1 Axes>"
      ]
     },
     "metadata": {
      "needs_background": "light"
     },
     "output_type": "display_data"
    }
   ],
   "source": [
    "# Can also be plotted as a function of time.\n",
    "%matplotlib inline\n",
    "\n",
    "plt.rc('font', family='serif')\n",
    "plt.rc('xtick', labelsize=16)\n",
    "plt.rc('ytick', labelsize=16)\n",
    "fig = plt.figure(figsize=(8.5,6))\n",
    "plt.tight_layout()\n",
    "\n",
    "plt.semilogy(t_MO_array/year/1.0e6, M_MO_array/1.4e21, color='r', linestyle='--', linewidth=3, label='magma ocean')\n",
    "plt.semilogy(t_MO_array/year/1.0e6, M_SM_array/1.4e21, color='k', linestyle='--', linewidth=3, label='solid mantle')\n",
    "plt.semilogy(t_MO_array/year/1.0e6, M_atmo_array/1.4e21, color='b', linestyle='--', linewidth=3, label='atmosphere')\n",
    "plt.xlabel('Time [Myr]', fontsize=16)\n",
    "plt.ylabel('Mass [Earth Oceans]', fontsize=16)\n",
    "plt.xlim([49.8, 50.])\n",
    "plt.ylim(0.005, 100.)\n",
    "plt.legend(loc='lower left', fontsize=16)"
   ]
  },
  {
   "cell_type": "markdown",
   "metadata": {},
   "source": [
    "### The functions in the following cell have been added since the first model iteration."
   ]
  },
  {
   "cell_type": "code",
   "execution_count": 18,
   "metadata": {},
   "outputs": [],
   "source": [
    "# Seafloor pressure\n",
    "def P(s, M, params1, params2, params3):\n",
    "    \n",
    "    M_E, R_E, d_hE, rho_c, rho_m, f_degasE, G, P_E, year, omega_E, x_E, E_a, R_g, T_liq_dry, T_sol_dry = params1\n",
    "    x_h, chi, d_melt, f_M, f_b, f_btwid, alpha, Ra_c, kappa, T_ref, k, beta, c_p, Q_0, T_s, theta, \\\n",
    "        T_serp, K_cnst, gamma, r_fug, d_b, f_w_min = params2\n",
    "    omega_0, num_oceans, sigma, mu, t_loss, loss_factor, chi_d, chi_r, dt_nom = params3\n",
    "    \n",
    "    return M*g(M)*s/(f_b*4*np.pi*(Rp(M)**2))\n",
    "\n",
    "# T-dependent hydration depth\n",
    "def d_h(t, temp, T_surf, x, M, params1, params2, params3):\n",
    "    \n",
    "    M_E, R_E, d_hE, rho_c, rho_m, f_degasE, G, P_E, year, omega_E, x_E, E_a, R_g, T_liq_dry, T_sol_dry = params1\n",
    "    x_h, chi, d_melt, f_M, f_b, f_btwid, alpha, Ra_c, kappa, T_ref, k, beta, c_p, Q_0, T_s, theta, \\\n",
    "        T_serp, K_cnst, gamma, r_fug, d_b, f_w_min = params2\n",
    "    omega_0, num_oceans, sigma, mu, t_loss, loss_factor, chi_d, chi_r, dt_nom = params3\n",
    "    \n",
    "    return (h(M)**(1.0-3.0*beta))*((temp-T_surf)**(-(1.0+beta)))*\\\n",
    "        (T_serp-T_surf)*((eta(temp,x,params1,params2,params3)*kappa*Ra_c/(alpha*rho_m*g(M)))**beta)\n",
    "\n",
    "# Radionuclide heating, using 4 common Earth mantle species (i.e., nominal bulk silicate Earth, 21 ppb U)\n",
    "# (Schaefer & Sasselov 2015, Eqn. (4), with constants as given in Laura's MATLAB code (see refs there))\n",
    "def Q_sum(t, M, params1, params2, params3):\n",
    "    \n",
    "    M_E, R_E, d_hE, rho_c, rho_m, f_degasE, G, P_E, year, omega_E, x_E, E_a, R_g, T_liq_dry, T_sol_dry = params1\n",
    "    x_h, chi, d_melt, f_M, f_b, f_btwid, alpha, Ra_c, kappa, T_ref, k, beta, c_p, Q_0, T_s, theta, \\\n",
    "        T_serp, K_cnst, gamma, r_fug, d_b, f_w_min = params2\n",
    "    omega_0, num_oceans, sigma, mu, t_loss, loss_factor, chi_d, chi_r, dt_nom = params3\n",
    "    \n",
    "    # Mantle concentration of element by mass (Schubert et al. 2001, Ch. 4)\n",
    "    Uran = 21e-9; #[U] = 21 ppb\n",
    "    C_238U = 0.9927 * Uran;\n",
    "    C_235U = 0.0072 * Uran;\n",
    "    C_40K = 1.28 * Uran;\n",
    "    C_232Th = 4.01 * Uran;\n",
    "    \n",
    "    # Heat production per unit mass (Schubert et al. 2001, Ch. 4)\n",
    "    H_238U = 9.37e-5;\n",
    "    H_235U = 5.69e-4;\n",
    "    H_232Th = 2.69e-5;\n",
    "    H_40K = 2.79e-5;\n",
    "    \n",
    "    # Decay constants\n",
    "    lam_238U = 0.155e-9;\n",
    "    lam_235U = 0.985e-9;\n",
    "    lam_232Th = 0.0495e-9;\n",
    "    lam_40K = 0.555e-9;\n",
    "    \n",
    "    return rho_m*(C_238U*H_238U*np.exp(lam_238U*(4.6e9-t)) + C_235U*H_235U*np.exp(lam_235U*(4.6e9-t)) + \\\n",
    "            C_232Th*H_232Th*np.exp(lam_232Th*(4.6e9-t)) + C_40K*H_40K*np.exp(lam_40K*(4.6e9-t)))"
   ]
  },
  {
   "cell_type": "code",
   "execution_count": 19,
   "metadata": {},
   "outputs": [],
   "source": [
    "# Things that need to be calculated with constants and above functions:\n",
    "# NOTE: If dimensions are being used anyway, many of these are redundant/won't be used in the code.\n",
    "omg_Etwid = num_oceans*omega_E/omega_0\n",
    "omegatwid = omg_Etwid/(f_btwid)\n",
    "T_stwid = T_s/T_ref\n",
    "T_mtwid = T_ref*R_g/E_a\n",
    "T_liqtwid = T_liq_dry/T_ref\n",
    "T_soltwid = T_sol_dry/T_ref\n",
    "Ktwid = K_cnst/T_ref\n",
    "Xtwid = x_h*rho_c*chi*d_hE*f_M/(rho_m*d_melt*f_degasE*omega_0*f_btwid)\n",
    "Pi = (rho_m*d_melt*chi_d*(omega_0*f_btwid/f_M)*((T_liqtwid-T_soltwid)**-theta))\n",
    "lambdatwid = Ktwid*(omega_0*f_btwid/f_M)**(gamma)\n",
    "eta_scale = (np.exp(lnf_w(5.8e-4,params1,params2,params3)))**(-r_fug)\n",
    "eta_0 = 1.0e21/eta_scale\n",
    "#f_w = np.exp(lnf_w(1.,params1,params2,params3))\n",
    "f_wtwid_min = 1.0e-5 #CONSERVATIVELY CHOSEN FOR NOW\n",
    "E = rho_m*d_melt*f_degasE*omega_0*f_btwid/f_M\n",
    "#tau_heat = Q_0/(rho_m*c_p*T_ref)\n",
    "\n",
    "# 4) Calculated parameters\n",
    "params4 = [omg_Etwid, omegatwid, T_stwid, T_mtwid, T_liqtwid, T_soltwid, Ktwid, Xtwid, Pi, lambdatwid, \\\n",
    "           eta_scale, eta_0, f_w, f_wtwid_min, E]"
   ]
  },
  {
   "cell_type": "markdown",
   "metadata": {},
   "source": [
    "# 1-D Atmosphere & Loss Functions"
   ]
  },
  {
   "cell_type": "code",
   "execution_count": 20,
   "metadata": {},
   "outputs": [],
   "source": [
    "# Other variables/functions, required for the adiabats and water saturation pressure.\n",
    "\n",
    "P_0_star = 1.4e11 #[Pa]\n",
    "l_c_NJ = 43655 #[J/mol] THIS VALUE IS USED BY NAKAJIMA+ 1992\n",
    "l_c = 2441.7e3 # [J/kg] (https://www.engineeringtoolbox.com/water-properties-d_1573.html)\n",
    "R_gas_NJ = 8.314 #[J/mol/K] THIS VALUE IS USED BY NAKAJIMA+ 1992\n",
    "R_gas = 8314. #[J/kg/K]\n",
    "\n",
    "# Saturation water vapour pressure\n",
    "def P_star(T): \n",
    "    \n",
    "    return P_0_star*np.exp(-l_c_NJ/(R_gas_NJ*T))\n",
    "\n",
    "# Specific heat -- Nakajima+ (1992) uses these values\n",
    "c_pv_NJ = 4*R_gas #specific heat at constant P of condensable\n",
    "c_pn_NJ = 3.5*R_gas #specific heat at constant P of non-condensable\n",
    "#c_pn = 4.5*R_gas # this value is also tested by Nakajima+ 1992\n",
    "\n",
    "# ALTERNATIVELY, use known measured values for these specific heats \n",
    "#(https://www.engineeringtoolbox.com/specific-heat-capacity-d_391.html)\n",
    "c_pn = 1005 #[J/(kg K)] specific heat of dry air at constant P\n",
    "c_pv = 1864 #[J/(kg K)] specific heat of water vapour at constant P (& at 300 K)"
   ]
  },
  {
   "cell_type": "code",
   "execution_count": 21,
   "metadata": {},
   "outputs": [],
   "source": [
    "# Use Goldblatt provided data, to reproduce Fig. 2b of Goldblatt+2013, for the Earth.\n",
    "data = np.loadtxt('Goldblatt_Tsurf_OLR.txt')\n",
    "T_surf_gb = data[:,0] # [K]\n",
    "OLR_gb = data[:,1] #[K] \n",
    "\n",
    "#plt.plot(T_surf_gb, OLR_gb)\n",
    "\n",
    "def T_surf_OLR(t, M, alb, a_orb, params1, params2, params3):\n",
    "    \n",
    "    if S_0(t, M, a_orb, params1, params2, params3)/4. > (282./(1.-alb)): #runaway greenhouse\n",
    "                \n",
    "        return 1800. #~maximum T_surf corresponding to given OLR\n",
    "    \n",
    "    else: #not in runaway greenhouse\n",
    "        \n",
    "        # Set OLR = absorbed flux\n",
    "        OLR = (S_0(t, M, a_orb, params1, params2, params3)/4.)*(1.-alb)\n",
    "        \n",
    "        # Do a very simple linear extrapolation FOR NOW.\n",
    "        z = np.polyfit(T_surf_gb[0:4], OLR_gb[0:4], 1)\n",
    "\n",
    "        if OLR <= np.min(OLR_gb): #arbitrary lower limit\n",
    "            \n",
    "            return np.min(T_surf_gb) + ((OLR - np.min(OLR_gb))/z[0])\n",
    "        \n",
    "        else:\n",
    "            \n",
    "            return np.interp(OLR, OLR_gb, T_surf_gb)"
   ]
  },
  {
   "cell_type": "code",
   "execution_count": 22,
   "metadata": {},
   "outputs": [
    {
     "name": "stdout",
     "output_type": "stream",
     "text": [
      "0.00018828235976533795\n",
      "1.9185768944499397\n"
     ]
    }
   ],
   "source": [
    "# Find the mass absorption coefficient for Earth's atmosphere.\n",
    "T_eff_E = 252. #[K]\n",
    "T_surf_E = 288. #[K]\n",
    "P_surf_E = 1.0e5 #[Pa]\n",
    "H_E = 8.5 #[km]\n",
    "g_E = g(M_E)\n",
    "gamma_trop = 6.5 #[K/km]\n",
    "\n",
    "z_eff_E = (T_surf_E - T_eff_E)/gamma_trop #[km]\n",
    "\n",
    "kappa_E = g_E/(P_surf_E*np.exp(-z_eff_E/H_E))\n",
    "print(kappa_E)\n",
    "\n",
    "# Use this kappa to find total optical depth of Earth's atmosphere.\n",
    "tau_0 = (P_surf_E/g_E)*kappa_E\n",
    "print(tau_0)\n",
    "\n",
    "# Pressure of emitting level, where tau = 1 or 2/3 (latter accounts for slant geometry).\n",
    "# XXXX SHOULD CHANGE THE BELOW FUNCTION IF ACTUALLY SOLVING FOR A P_EFF, IF Z_EFF KNOWN!\n",
    "#def f_P_eff(t, T, P_surf, z_eff, M, m): \n",
    "def f_P_eff(t, M): \n",
    "    \n",
    "    # Value for absorption in 6.5-6.67 µm band (BUT WILL HAVE TO CHANGE THIS LATER BASED ON T_EFF)\n",
    "    # (https://bartonlevenson.com/ConvertingAbsorptionCoefficients.html)\n",
    "    #kappa = 25. #[m^2/kg]\n",
    "    #kappa = 0.86 #[m^2/kg] #absorption window, 12-25 µm band\n",
    "    #kappa_abs_ref = 0.01 #[m^2/kg], at reference pressure P = 101325 Pa (Yamamoto & Onishi, 1952)\n",
    "    \n",
    "    # These two variables go hand-in-hand.\n",
    "    kappa_0 = 0.055 # Pierrehumbert, pg. 282\n",
    "    P_0 = 1.0e4 # Pierrehumbert, pg. 282\n",
    "    \n",
    "    # A roughly square-root dependence, based on Fig. 5 of Yamamoto & Onishi (1952). XXXX NOT USED XXXX\n",
    "    #kappa_abs = kappa_abs_ref*((P_surf/1.0e5)**0.5)\n",
    "\n",
    "    tau = 1.\n",
    "    #tau = 2./3.\n",
    "    \n",
    "    #return tau*g(M)/kappa_abs_ref\n",
    "    return (2.*P_0*g(M)/kappa_0)**0.5"
   ]
  },
  {
   "cell_type": "code",
   "execution_count": 23,
   "metadata": {},
   "outputs": [],
   "source": [
    "# Function to determine total mass of water in atmosphere, given T_surf, surface water inventory, albedo.\n",
    "def f_M_H2O(t, W_s, T_surf, alb, M, m, a_orb, params1, params2, params3):\n",
    "    \n",
    "    # Runaway greenhouse limit; divide by 4 because planet is a sphere\n",
    "    # All surface water in atmosphere\n",
    "    if S_0(t, M, a_orb, params1, params2, params3)/4. > (282./(1.-alb)):\n",
    "        \n",
    "        return W_s #[kg]\n",
    "        \n",
    "    else:\n",
    "        \n",
    "        return (P_star(T_surf)/g(M))*4.*np.pi*(Rp(M)**2.) #[kg]\n",
    "    \n",
    "def f_P_surf(t, W_s, T_surf, alb, M, m, a_orb, params1, params2, params3):\n",
    "    \n",
    "    # Runaway greenhouse limit; divide by 4 because planet is a sphere\n",
    "    # All surface water in atmosphere\n",
    "    if S_0(t, M, a_orb, params1, params2, params3)/4. > (282./(1.-alb)):\n",
    "        \n",
    "        return W_s*g(M)/(4.*np.pi*(Rp(M)**2.))\n",
    "    \n",
    "    else:\n",
    "        \n",
    "        return P_star(T_surf)"
   ]
  },
  {
   "cell_type": "markdown",
   "metadata": {},
   "source": [
    "### Energy-limited & diffusion-limited loss, from Luger & Barnes (2015)"
   ]
  },
  {
   "cell_type": "code",
   "execution_count": 24,
   "metadata": {},
   "outputs": [],
   "source": [
    "# Energy-limited escape rate\n",
    "def loss_rate_EL(t, F_XUV, R_XUV, M): #[kg/s]\n",
    "    \n",
    "    # R_XUV = XUV deposition radius; LB15 set R_XUV = R_p for simplicity\n",
    "    # M = planetary mass\n",
    "    \n",
    "    G = 6.67e-11\n",
    "    eps_XUV = 0.1 #nominal; LB15 test 0.15-0.30\n",
    "    \n",
    "    return eps_XUV*np.pi*F_XUV*Rp(M)*(R_XUV**2.)/(G*M)\n",
    "\n",
    "# Diffusion-limited escape rate\n",
    "def loss_rate_DL(t, T_surf, T_strat, M):\n",
    "    \n",
    "    g_p = g(M)*100. #[cm s^-2], to match the units of b\n",
    "    k_B = 1.38e-23 #[m^2 kg s^-2 K^-1]; Boltzmann constant\n",
    "    \n",
    "    # Mole fractions of H & O (assuming all H2O is dissociated)\n",
    "    X_H = 2./3.\n",
    "    X_O = 1./3.\n",
    "    \n",
    "    m_H = 1.66e-27 #[kg]; mass of H atom\n",
    "    m_O = 16.*m_H\n",
    "    \n",
    "    #if T_surf < 647.:\n",
    "        \n",
    "        #b = 4.8e17*(T_strat**0.75) #[cm^-1 s^-1]\n",
    "\n",
    "        #return m_H*(np.pi*(Rp(M)**2.)*b*g_p*(m_O-m_H))/(k_B*T_strat*(1.+(X_O/X_H)))\n",
    "    \n",
    "    #else: #T_surf >= 647.; take average thermospheric temperature of 400 K in runaway GH\n",
    "        \n",
    "    # Just take the thermospheric temperature as 400 K at all times, for now.\n",
    "    b = 4.8e17*(400.**0.75) #[cm^-1 s^-1]\n",
    "        \n",
    "    return m_H*(np.pi*(Rp(M)**2.)*b*g_p*(m_O-m_H))/(k_B*400.*(1.+(X_O/X_H))) "
   ]
  },
  {
   "cell_type": "markdown",
   "metadata": {},
   "source": [
    "# Cycling Functions"
   ]
  },
  {
   "cell_type": "code",
   "execution_count": 25,
   "metadata": {},
   "outputs": [],
   "source": [
    "# Thermal evolution\n",
    "\n",
    "def f_delta_temp(t, temp, W_m, W_s, T_surf, M, params1, params2, params3, params4):\n",
    "    \n",
    "    M_E, R_E, d_hE, rho_c, rho_m, f_degasE, G, P_E, year, omega_E, x_E, E_a, R_g, T_liq_dry, T_sol_dry = params1\n",
    "    x_h, chi, d_melt, f_M, f_b, f_btwid, alpha, Ra_c, kappa, T_ref, k, beta, c_p, Q_0, T_s, theta, \\\n",
    "        T_serp, K_cnst, gamma, r_fug, d_b, f_w_min = params2\n",
    "    omega_0, num_oceans, sigma, mu, t_loss, loss_factor, chi_d, chi_r, dt_nom = params3\n",
    "    omg_Etwid, omegatwid, T_stwid, T_mtwid, T_liqtwid, T_soltwid, Ktwid, Xtwid, Pi, lambdatwid, \\\n",
    "           eta_scale, eta_0, f_w, f_wtwid_min, E = params4\n",
    "    \n",
    "    x = W_m/(f_M*M)\n",
    "    s = W_s/M\n",
    "    \n",
    "#    return (1./(rho_m*c_p))*((Q_0*np.exp(-t/2.0e9)) - \\\n",
    "#        (k*A(M)*(temp-T_s)/(h(M)*V(M)))*(Ra(temp, x, M, params1, params2, params3)/Ra_c)**beta)\n",
    "\n",
    "    return (1./(rho_m*c_p))*((Q_sum(t, M, params1, params2, params3)) - \\\n",
    "        (k*A(M)*(temp-T_surf)/(h(M)*V(M)))*(Ra(t, temp, x, T_surf, M, params1, params2, params3)/Ra_c)**beta)\n",
    "\n",
    "# Degassing (using 1% melt approximation of Komaceck & Abbot 2016)\n",
    "\n",
    "def f_degas(t, temp, W_m, W_s, T_surf, M, params1, params2, params3, params4):\n",
    "    \n",
    "    M_E, R_E, d_hE, rho_c, rho_m, f_degasE, G, P_E, year, omega_E, x_E, E_a, R_g, T_liq_dry, T_sol_dry = params1\n",
    "    x_h, chi, d_melt, f_M, f_b, f_btwid, alpha, Ra_c, kappa, T_ref, k, beta, c_p, Q_0, T_s, theta, \\\n",
    "        T_serp, K_cnst, gamma, r_fug, d_b, f_w_min = params2\n",
    "    omega_0, num_oceans, sigma, mu, t_loss, loss_factor, chi_d, chi_r, dt_nom = params3\n",
    "    omg_Etwid, omegatwid, T_stwid, T_mtwid, T_liqtwid, T_soltwid, Ktwid, Xtwid, Pi, lambdatwid, \\\n",
    "           eta_scale, eta_0, f_w, f_wtwid_min, E = params4\n",
    "    \n",
    "    x = W_m/(f_M*M)\n",
    "    s = W_s/M\n",
    "    \n",
    "    # Mantle temperature check\n",
    "    if temp > T_sol_dry-K_cnst*x**gamma: \n",
    "    \n",
    "        # Piecewise limit from CA2014\n",
    "        if x > 0. and s > 0. and f_degasE*(P(s, M, params1, params2, params3)/P_E)**(-mu) < 1.:\n",
    "            return L_MOR(M)*S(t, temp, x, T_surf, M, params1, params2, params3)*(x*rho_m*d_melt*\\\n",
    "                (f_degasE*(P(s, M, params1, params2, params3)/P_E)**(-mu))*\\\n",
    "                ((temp-(T_sol_dry-K_cnst*x**gamma))/(T_liq_dry-T_sol_dry))**theta)\n",
    "    \n",
    "        elif x > 0. and s > 0. and f_degasE*(P(s, M, params1, params2, params3)/P_E)**(-mu) >= 1.:\n",
    "            return L_MOR(M)*S(t, temp, x, T_surf, M, params1, params2, params3)*(x*rho_m*d_melt*\\\n",
    "                (1.)*((temp-(T_sol_dry-K_cnst*x**gamma))/(T_liq_dry-T_sol_dry))**theta)\n",
    "    \n",
    "        elif x > 0. and s <= 0.:\n",
    "            return L_MOR(M)*S(t, temp, x, T_surf, M, params1, params2, params3)*(x*rho_m*d_melt*\\\n",
    "                (1.)*((temp-(T_sol_dry-K_cnst*x**gamma))/(T_liq_dry-T_sol_dry))**theta)\n",
    "    \n",
    "        else: # x <= 0.; no degassing\n",
    "            return 0.\n",
    "        \n",
    "    else: # temp <= T_sol_dry-K_cnst*x**gamma; no degassing\n",
    "        return 0.\n",
    "    \n",
    "# Regassing (adding regassing check of CA14 to T-dependent regassing of SS15)\n",
    "\n",
    "def f_regas(t, temp, W_m, W_s, T_surf, alb, M, a_orb, params1, params2, params3, params4):\n",
    "    \n",
    "    M_E, R_E, d_hE, rho_c, rho_m, f_degasE, G, P_E, year, omega_E, x_E, E_a, R_g, T_liq_dry, T_sol_dry = params1\n",
    "    x_h, chi, d_melt, f_M, f_b, f_btwid, alpha, Ra_c, kappa, T_ref, k, beta, c_p, Q_0, T_s, theta, \\\n",
    "        T_serp, K_cnst, gamma, r_fug, d_b, f_w_min = params2\n",
    "    omega_0, num_oceans, sigma, mu, t_loss, loss_factor, chi_d, chi_r, dt_nom = params3\n",
    "    omg_Etwid, omegatwid, T_stwid, T_mtwid, T_liqtwid, T_soltwid, Ktwid, Xtwid, Pi, lambdatwid, \\\n",
    "           eta_scale, eta_0, f_w, f_wtwid_min, E = params4\n",
    "    \n",
    "    x = W_m/(f_M*M)\n",
    "    s = W_s/M\n",
    "    \n",
    "    if S_0(t, M, a_orb, params1, params2, params3)/4. > (282./(1.-alb)):\n",
    "        \n",
    "        # Runaway greenhouse; all water in atmosphere so NO regassing!!!\n",
    "        return 0.\n",
    "        \n",
    "    else:\n",
    "    \n",
    "        # Piecewise limit from CA2014\n",
    "        if x > 0. and s > 0. and d_h(t, temp, T_surf, x, M, params1, params2, params3)*(P(s, M, params1, params2, params3)/P_E)**sigma < d_b:\n",
    "            return L_MOR(M)*S(t, temp, x, T_surf, M, params1, params2, params3)*(x_h*rho_c*chi_r*\\\n",
    "                d_h(t, temp, T_surf, x, M, params1, params2, params3)*(P(s, M, params1, params2, params3)/P_E)**sigma)\n",
    "    \n",
    "        elif x > 0. and s > 0. and d_h(t, temp, T_surf, x, M, params1, params2, params3)*(P(s, M, params1, params2, params3)/P_E)**sigma >= d_b:\n",
    "            return L_MOR(M)*S(t, temp, x, T_surf, M, params1, params2, params3)*(x_h*rho_c*chi_r*d_b)\n",
    "    \n",
    "        elif x <= 0. and s > 0.: # not a big fan of this condition choice (constant spreading rate)\n",
    "            return L_MOR(M)*(0.1/year)*(x_h*rho_c*chi_r*d_b)\n",
    "    \n",
    "        elif s <= 0.: # no regassing\n",
    "            return 0.\n",
    "    \n",
    "# Water loss; ENERGY-LIMITED OR DIFFUSION-LIMITED ESCAPE (Luger & Barnes 2015)\n",
    "\n",
    "def f_loss(t, temp, W_m, W_s, T_surf, T_strat, alb, dt, M, a_orb, params1, params2, params3, params4):\n",
    "    \n",
    "    M_E, R_E, d_hE, rho_c, rho_m, f_degasE, G, P_E, year, omega_E, x_E, E_a, R_g, T_liq_dry, T_sol_dry = params1\n",
    "    x_h, chi, d_melt, f_M, f_b, f_btwid, alpha, Ra_c, kappa, T_ref, k, beta, c_p, Q_0, T_s, theta, \\\n",
    "        T_serp, K_cnst, gamma, r_fug, d_b, f_w_min = params2\n",
    "    omega_0, num_oceans, sigma, mu, t_loss, loss_factor, chi_d, chi_r, dt_nom = params3\n",
    "    omg_Etwid, omegatwid, T_stwid, T_mtwid, T_liqtwid, T_soltwid, Ktwid, Xtwid, Pi, lambdatwid, \\\n",
    "           eta_scale, eta_0, f_w, f_wtwid_min, E = params4\n",
    "    \n",
    "    x = W_m/(f_M*M)\n",
    "    s = W_s/M\n",
    "    \n",
    "    # Runaway greenhouse limit; divide by 4 because planet is a sphere\n",
    "    if S_0(t, M, a_orb, params1, params2, params3)/4. > (282./(1.-alb)):\n",
    "        \n",
    "        # Energy-limited loss; set R_XUV = R_p, for simplicity\n",
    "        M_loss = loss_rate_EL(t, F_XUV(t, M, a_orb, params1, params2, params3), Rp(M), M) #[kg/s]\n",
    "        \n",
    "    else:\n",
    "           \n",
    "        # Take the lower value of EL and DL loss rates. \n",
    "        M_loss = np.minimum(loss_rate_EL(t, F_XUV(t, M, a_orb, params1, params2, params3), Rp(M), M), \\\n",
    "                        loss_rate_DL(t, T_surf, T_strat, M)) #[kg/s]\n",
    "        \n",
    "    # XXXX For our purposes, replenishment time above exobase is ~instantaneous; therefore, we can take water directly\n",
    "    # from the surface reservoir, for now.\n",
    "    # Piecewise def'n from me, so you don't lose more than on the surface\n",
    "    if M_loss < W_s/dt:\n",
    "        return M_loss\n",
    "    else:\n",
    "        return W_s/dt\n",
    "    \n",
    "    #return 0. #no loss"
   ]
  },
  {
   "cell_type": "code",
   "execution_count": 26,
   "metadata": {},
   "outputs": [],
   "source": [
    "# Change in mantle water with time\n",
    "\n",
    "def f_delta_W_m(t, temp, W_m, W_s, T_surf, alb, dt, M, a_orb, params1, params2, params3, params4):\n",
    "    \n",
    "    M_E, R_E, d_hE, rho_c, rho_m, f_degasE, G, P_E, year, omega_E, x_E, E_a, R_g, T_liq_dry, T_sol_dry = params1\n",
    "    x_h, chi, d_melt, f_M, f_b, f_btwid, alpha, Ra_c, kappa, T_ref, k, beta, c_p, Q_0, T_s, theta, \\\n",
    "        T_serp, K_cnst, gamma, r_fug, d_b, f_w_min = params2\n",
    "    omega_0, num_oceans, sigma, mu, t_loss, loss_factor, chi_d, chi_r, dt_nom = params3\n",
    "    omg_Etwid, omegatwid, T_stwid, T_mtwid, T_liqtwid, T_soltwid, Ktwid, Xtwid, Pi, lambdatwid, \\\n",
    "           eta_scale, eta_0, f_w, f_wtwid_min, E = params4\n",
    "    \n",
    "    x = W_m/(f_M*M)\n",
    "    s = W_s/M\n",
    "    \n",
    "    d_W_m = f_regas(t, temp, W_m, W_s, T_surf, alb, M, a_orb, params1, params2, params3, params4) - \\\n",
    "            f_degas(t, temp, W_m, W_s, T_surf, M, params1, params2, params3, params4)\n",
    "    \n",
    "    # Mantle water capacity check\n",
    "    if W_m + (d_W_m*dt) <= 12.0*1.4e21:\n",
    "        return d_W_m\n",
    "    else:\n",
    "        return ((12.0*1.4e21) - W_m)/dt\n",
    "\n",
    "# Change in surface water with time\n",
    "\n",
    "def f_delta_W_s(t, temp, W_m, W_s, T_surf, T_strat, alb, dt, M, a_orb, params1, params2, params3, params4):\n",
    "    \n",
    "    M_E, R_E, d_hE, rho_c, rho_m, f_degasE, G, P_E, year, omega_E, x_E, E_a, R_g, T_liq_dry, T_sol_dry = params1\n",
    "    x_h, chi, d_melt, f_M, f_b, f_btwid, alpha, Ra_c, kappa, T_ref, k, beta, c_p, Q_0, T_s, theta, \\\n",
    "        T_serp, K_cnst, gamma, r_fug, d_b, f_w_min = params2\n",
    "    omega_0, num_oceans, sigma, mu, t_loss, loss_factor, chi_d, chi_r, dt_nom = params3\n",
    "    omg_Etwid, omegatwid, T_stwid, T_mtwid, T_liqtwid, T_soltwid, Ktwid, Xtwid, Pi, lambdatwid, \\\n",
    "           eta_scale, eta_0, f_w, f_wtwid_min, E = params4\n",
    "    \n",
    "    x = W_m/(f_M*M)\n",
    "    s = W_s/M\n",
    "    \n",
    "    d_W_m = f_regas(t, temp, W_m, W_s, T_surf, alb, M, a_orb, params1, params2, params3, params4) - \\\n",
    "            f_degas(t, temp, W_m, W_s, T_surf, M, params1, params2, params3, params4)\n",
    "    \n",
    "    # Mantle water capacity check\n",
    "    if W_m + (d_W_m*dt) <= 12.0*1.4e21:\n",
    "        return f_degas(t, temp, W_m, W_s, T_surf, M, params1, params2, params3, params4) - \\\n",
    "            f_regas(t, temp, W_m, W_s, T_surf, alb, M, a_orb, params1, params2, params3, params4) - \\\n",
    "            f_loss(t, temp, W_m, W_s, T_surf, T_strat, alb, dt, M, a_orb, params1, params2, params3, params4)\n",
    "    else:\n",
    "        return -(((12.0*1.4e21) - W_m)/dt) - \\\n",
    "            f_regas(t, temp, W_m, W_s, T_surf, alb, M, a_orb, params1, params2, params3, params4) - \\\n",
    "            f_loss(t, temp, W_m, W_s, T_surf, T_strat, alb, dt, M, a_orb, params1, params2, params3, params4)\n",
    "\n",
    "# Cycling equation, to be integrated\n",
    "\n",
    "def f_cycling(t, z, T_surf, T_strat, alb, dt, M, a_orb, params1, params2, params3, params4):\n",
    "    \n",
    "    M_E, R_E, d_hE, rho_c, rho_m, f_degasE, G, P_E, year, omega_E, x_E, E_a, R_g, T_liq_dry, T_sol_dry = params1\n",
    "    x_h, chi, d_melt, f_M, f_b, f_btwid, alpha, Ra_c, kappa, T_ref, k, beta, c_p, Q_0, T_s, theta, \\\n",
    "        T_serp, K_cnst, gamma, r_fug, d_b, f_w_min = params2\n",
    "    omega_0, num_oceans, sigma, mu, t_loss, loss_factor, chi_d, chi_r, dt_nom = params3\n",
    "    omg_Etwid, omegatwid, T_stwid, T_mtwid, T_liqtwid, T_soltwid, Ktwid, Xtwid, Pi, lambdatwid, \\\n",
    "           eta_scale, eta_0, f_w, f_wtwid_min, E = params4\n",
    "    \n",
    "    temp = z[0]\n",
    "    W_m = z[1]\n",
    "    W_s = z[2]\n",
    "    \n",
    "    return [f_delta_temp(t, temp, W_m, W_s, T_surf, M, params1, params2, params3, params4),\\\n",
    "                f_delta_W_m(t, temp, W_m, W_s, T_surf, alb, dt, M, a_orb, params1, params2, params3, params4),\\\n",
    "                f_delta_W_s(t, temp, W_m, W_s, T_surf, T_strat, alb, dt, M, a_orb, params1, params2, params3, params4)]"
   ]
  },
  {
   "cell_type": "markdown",
   "metadata": {},
   "source": [
    "# Time-dependent Cycling & Loss Simulations"
   ]
  },
  {
   "cell_type": "code",
   "execution_count": 27,
   "metadata": {},
   "outputs": [],
   "source": [
    "# input parameters\n",
    "# Need various values of initial water inventories -- USE OUTPUT FROM ABOVE MO MODEL RUNS.\n",
    "W_m_init = M_SM_array[-1] #[kg]\n",
    "W_s_init = M_atmo_array[-1] #[kg]"
   ]
  },
  {
   "cell_type": "code",
   "execution_count": 28,
   "metadata": {
    "scrolled": false
   },
   "outputs": [
    {
     "name": "stderr",
     "output_type": "stream",
     "text": [
      "/Users/admin/anaconda3/lib/python3.7/site-packages/ipykernel_launcher.py:31: RuntimeWarning: invalid value encountered in double_scalars\n",
      "/Users/admin/anaconda3/lib/python3.7/site-packages/scipy/integrate/_ode.py:1009: UserWarning: vode: Excess work done on this call. (Perhaps wrong MF.)\n",
      "  self.messages.get(istate, unexpected_istate_msg)))\n"
     ]
    },
    {
     "name": "stdout",
     "output_type": "stream",
     "text": [
      "274.14385890960693  s\n",
      "Escape limited by surface water:  0.0 of  250001 runs.\n"
     ]
    }
   ],
   "source": [
    "# Set initial conditions.\n",
    "t0 = 50.0e6*year #0\n",
    "W_total = 2.*1.4e21 #10.*1.4e21\n",
    "#z0 = [3000., W_total/2., W_total/2.] #partioned equally between surface & mantle\n",
    "#z0 = [3000., 0.1*W_total, 0.9*W_total] #rough partitioning at end of magma ocean, for GJ 1132b (Schaefer+16)\n",
    "#z0 = [3000., 0.5*W_total, 4.5*W_total] #rough partioning at end of MO, for TRAPPIST-1 planets (Barth+20)\n",
    "z0 = [3000., W_m_init, W_s_init] #[K] [kg] [kg]\n",
    "M = M_E\n",
    "# Atmosphere initial conditions.\n",
    "m = m_H2O #molecular mass of water \n",
    "a_orb = 0.06727532*1.496e11 #[m], middle of HZ around Proxima Cen (calculated from Kopparapu+2013)\n",
    "alb = 0.3 #0.1 #albedo\n",
    "T_surf_0 = T_surf_OLR(t0, M, alb, a_orb, params1, params2, params3)\n",
    "P_surf_0 = f_P_surf(t0, z0[2], T_surf_0, alb, M, m, a_orb, params1, params2, params3)\n",
    "T_strat_0 = T_strat(t0, M, a_orb, params1, params2, params3)\n",
    "# Define max time, timestep, arrays to be filled within the integration loop.\n",
    "t1 = 5.0e9*year #5 Gyr\n",
    "dt = 2.0e4*year #20,000 yr per timestep\n",
    "\n",
    "count_array = np.zeros(int((t1-t0)/dt)+1) #IF LIMITED BY AMOUNT OF WATER, SET = 1; OTHERWISE, LEAVE AS 0\n",
    "\n",
    "# Set up function to be integrated.\n",
    "r = ode(f_cycling).set_integrator('vode')\n",
    "r.set_initial_value(z0, t0).set_f_params(T_surf_0,T_strat_0,alb,dt,M,a_orb,params1,params2,params3,params4)\n",
    "\n",
    "# Define arrays to be filled within the integration loop.\n",
    "###t_array = np.zeros(int(t1/dt)+1)\n",
    "t_array = np.zeros(int((t1-t0)/dt)+1)\n",
    "# Cycling\n",
    "T_array = np.zeros(int((t1-t0)/dt)+1)\n",
    "W_m_array = np.zeros(int((t1-t0)/dt)+1)\n",
    "W_s_array = np.zeros(int((t1-t0)/dt)+1)\n",
    "regas_array = np.zeros(int((t1-t0)/dt)+1)\n",
    "degas_array = np.zeros(int((t1-t0)/dt)+1)\n",
    "# Atmosphere\n",
    "T_surf_array = np.zeros(int((t1-t0)/dt)+1)\n",
    "T_strat_array = np.zeros(int((t1-t0)/dt)+1)\n",
    "TOA_flux_array = np.zeros(int((t1-t0)/dt)+1)\n",
    "loss_array = np.zeros(int((t1-t0)/dt)+1)\n",
    "EL_array = np.zeros(int((t1-t0)/dt)+1)\n",
    "DL_array = np.zeros(int((t1-t0)/dt)+1)\n",
    "M_H2O_array = np.zeros(int((t1-t0)/dt)+1)\n",
    "P_eff_array = np.zeros(int((t1-t0)/dt)+1)\n",
    "P_surf_array = np.zeros(int((t1-t0)/dt)+1)\n",
    "\n",
    "# Initial values in the arrays.\n",
    "t_array[0] = t0\n",
    "# Cycling\n",
    "T_array[0] = z0[0]\n",
    "W_m_array[0] = z0[1]\n",
    "W_s_array[0] = z0[2]\n",
    "regas_array[0] = f_regas(t0, z0[0], z0[1], z0[2], T_surf_0, alb, M, a_orb, params1, params2, params3, params4)\n",
    "degas_array[0] = f_degas(t0, z0[0], z0[1], z0[2], T_surf_0, M, params1, params2, params3, params4)\n",
    "# Atmosphere\n",
    "T_surf_array[0] = T_surf_0\n",
    "T_strat_array[0] = T_strat_0\n",
    "TOA_flux_array[0] = S_0(t0, M, a_orb, params1, params2, params3)\n",
    "loss_array[0] = f_loss(t0, z0[0], z0[1], z0[2], T_surf_0, T_strat_0, alb, dt, M, a_orb, params1, params2, params3, params4)\n",
    "EL_array[0] = loss_rate_EL(t0, F_XUV(t0, M, a_orb, params1, params2, params3), Rp(M), M) #[kg/s]\n",
    "DL_array[0] = loss_rate_DL(t0, T_surf_0, T_strat_0, M) #[kg/s]\n",
    "M_H2O_array[0] = f_M_H2O(t0, z0[2], T_surf_0, alb, M, m, a_orb, params1, params2, params3)\n",
    "P_eff_array[0] = f_P_eff(t0, M)\n",
    "P_surf_array[0] = P_surf_0\n",
    "\n",
    "# Integrate the above function.\n",
    "idx = 1\n",
    "start_time = time.time()\n",
    "for idx in range(1,len(t_array)):\n",
    "    \n",
    "    if r.successful() == True:\n",
    "        r.integrate(r.t+dt)\n",
    "        t_array[idx] = r.t\n",
    "        T_array[idx] = r.y[0]\n",
    "        W_m_array[idx] = r.y[1]\n",
    "        W_s_array[idx] = r.y[2]\n",
    "        \n",
    "        ########\n",
    "         # Runaway greenhouse limit; divide by 4 because planet is a sphere\n",
    "        if S_0(r.t, M, a_orb, params1, params2, params3)/4. > (282./(1.-alb)):\n",
    "        \n",
    "            # Energy-limited loss; set R_XUV = R_p, for simplicity\n",
    "            M_loss = loss_rate_EL(r.t, F_XUV(r.t, M, a_orb, params1, params2, params3), Rp(M), M) #[kg/s]\n",
    "        \n",
    "        else:\n",
    "           \n",
    "            # Take the lower value of EL and DL loss rates. \n",
    "            M_loss = np.minimum(loss_rate_EL(r.t, F_XUV(r.t, M, a_orb, params1, params2, params3), Rp(M), M), \\\n",
    "                            loss_rate_DL(r.t, T_surf_array[idx], T_strat_array[idx], M)) #[kg/s]\n",
    "        \n",
    "        # Piecewise def'n from me, so you don't lose more than on the surface\n",
    "        if M_loss*dt > W_s_array[idx]:\n",
    "            count_array[idx] = 1\n",
    "        ########\n",
    "        \n",
    "        T_surf_array[idx] = T_surf_OLR(r.t, M, alb, a_orb, params1, params2, params3)\n",
    "        P_surf_array[idx] = f_P_surf(r.t, r.y[2], T_surf_array[idx], alb, M, m, a_orb, params1, params2, params3)\n",
    "        T_strat_array[idx] = T_strat(r.t, M, a_orb, params1, params2, params3)\n",
    "        TOA_flux_array[idx] = S_0(r.t, M, a_orb, params1, params2, params3)\n",
    "        \n",
    "        regas_array[idx] = f_regas(r.t, r.y[0], r.y[1], r.y[2], T_surf_array[idx], alb, M, a_orb, params1, params2, params3, params4)\n",
    "        degas_array[idx] = f_degas(r.t, r.y[0], r.y[1], r.y[2], T_surf_array[idx], M, params1, params2, params3, params4)\n",
    "        loss_array[idx] = f_loss(r.t, r.y[0], r.y[1], r.y[2], T_surf_array[idx], T_strat_array[idx], alb, dt, M, a_orb, params1, params2, params3, params4)\n",
    "        EL_array[idx] = loss_rate_EL(r.t, F_XUV(r.t, M, a_orb, params1, params2, params3), Rp(M), M) #[kg/s]\n",
    "        DL_array[idx] = loss_rate_DL(r.t, T_surf_array[idx], T_strat_array[idx], M) #[kg/s]\n",
    "        M_H2O_array[idx] =  f_M_H2O(r.t, r.y[2], T_surf_array[idx], alb, M, m, a_orb, params1, params2, params3)\n",
    "        P_eff_array[idx] = f_P_eff(r.t, M)\n",
    "        \n",
    "    elif r.successful() == False:\n",
    "        M_E, R_E, d_hE, rho_c, rho_m, f_degasE, G, P_E, year, omega_E, x_E, E_a, R_g, T_liq_dry, T_sol_dry = params1\n",
    "        x_h, chi, d_melt, f_M, f_b, f_btwid, alpha, Ra_c, kappa, T_ref, k, beta, c_p, Q_0, T_s, theta, \\\n",
    "            T_serp, K_cnst, gamma, r_fug, d_b, f_w_min = params2\n",
    "        omega_0, num_oceans, sigma, mu, t_loss, loss_factor, chi_d, chi_r, dt_nom = params3\n",
    "        omg_Etwid, omegatwid, T_stwid, T_mtwid, T_liqtwid, T_soltwid, Ktwid, Xtwid, Pi, lambdatwid, \\\n",
    "            eta_scale, eta_0, f_w, f_wtwid_min, E = params4\n",
    "       \n",
    "        t_array[idx] = t_array[idx-1] + dt\n",
    "        T_array[idx] = T_array[idx-1] + \\\n",
    "            f_delta_temp(t_array[idx-1], T_array[idx-1], W_m_array[idx-1], W_s_array[idx-1], T_surf_array[idx-1], M, params1, params2, params3, params4)*dt\n",
    "        W_m_array[idx] = W_m_array[idx-1] + \\\n",
    "            f_delta_W_m(t_array[idx-1], T_array[idx-1], W_m_array[idx-1], W_s_array[idx-1], T_surf_array[idx-1], alb, dt, M, a_orb, params1, params2, params3, params4)*dt\n",
    "        W_s_array[idx] = W_s_array[idx-1] + \\\n",
    "            f_delta_W_s(t_array[idx-1], T_array[idx-1], W_m_array[idx-1], W_s_array[idx-1], T_surf_array[idx-1], T_strat_array[idx-1], alb, dt, M, a_orb, params1, params2, params3, params4)*dt\n",
    "\n",
    "        ########\n",
    "        # Runaway greenhouse limit; divide by 4 because planet is a sphere\n",
    "        if S_0(t_array[idx], M, a_orb, params1, params2, params3)/4. > (282./(1.-alb)):\n",
    "        \n",
    "            # Energy-limited loss; set R_XUV = R_p, for simplicity\n",
    "            M_loss = loss_rate_EL(t_array[idx], F_XUV(t_array[idx], M, a_orb, params1, params2, params3), Rp(M), M) #[kg/s]\n",
    "        \n",
    "        else:\n",
    "           \n",
    "            # Take the lower value of EL and DL loss rates. \n",
    "            M_loss = np.minimum(loss_rate_EL(t_array[idx], F_XUV(t_array[idx], M, a_orb, params1, params2, params3), Rp(M), M), \\\n",
    "                            loss_rate_DL(t_array[idx], T_surf_array[idx], T_strat_array[idx], M)) #[kg/s]\n",
    "        \n",
    "        # Piecewise def'n from me, so you don't lose more than on the surface\n",
    "        if M_loss*dt > W_s_array[idx]:\n",
    "            count_array[idx] = 1\n",
    "        ########\n",
    "                \n",
    "        T_surf_array[idx] = T_surf_OLR(t_array[idx], M, alb, a_orb, params1, params2, params3)\n",
    "        P_surf_array[idx] = f_P_surf(t_array[idx], W_s_array[idx], T_surf_array[idx], alb, M, m, a_orb, params1, params2, params3)\n",
    "        T_strat_array[idx] = T_strat(t_array[idx], M, a_orb, params1, params2, params3)\n",
    "        TOA_flux_array[idx] = S_0(t_array[idx], M, a_orb, params1, params2, params3)\n",
    "        \n",
    "        regas_array[idx] = f_regas(t_array[idx], T_array[idx-1], W_m_array[idx], W_s_array[idx], T_surf_array[idx], alb, M, a_orb, params1, params2, params3, params4)\n",
    "        degas_array[idx] = f_degas(t_array[idx], T_array[idx-1], W_m_array[idx], W_s_array[idx], T_surf_array[idx], M, params1, params2, params3, params4)\n",
    "        loss_array[idx] = f_loss(t_array[idx], T_array[idx-1], W_m_array[idx], W_s_array[idx], T_surf_array[idx], T_strat_array[idx], alb, dt, M, a_orb, params1, params2, params3, params4)\n",
    "        EL_array[idx] = loss_rate_EL(t_array[idx], F_XUV(t_array[idx], M, a_orb, params1, params2, params3), Rp(M), M) #[kg/s]\n",
    "        DL_array[idx] = loss_rate_DL(t_array[idx], T_surf_array[idx], T_strat_array[idx], M) #[kg/s]\n",
    "        M_H2O_array[idx] =  f_M_H2O(t_array[idx], W_s_array[idx], T_surf_array[idx], alb, M, m, a_orb, params1, params2, params3)\n",
    "        P_eff_array[idx] = f_P_eff(t_array[idx], M)\n",
    "\n",
    "        # Leave the loop if both reservoirs have zero water.\n",
    "        # XXXX ALTERNATIVE DESICCATION LIMIT: 10^-5 TO (SLIGHTLY LESS ACCURATE THOUGH) XXXX\n",
    "        #if W_m_array[idx] <= 1.29e16 and W_s_array[idx] <= 1.29e16:\n",
    "        if W_m_array[idx]+W_s_array[idx] <= 1.29e16:\n",
    "            print('Planet Desiccated')\n",
    "            break\n",
    "        \n",
    "    #idx = idx + 1\n",
    "    \n",
    "end_time = time.time()\n",
    "print(end_time-start_time, ' s')\n",
    "print('Escape limited by surface water: ', np.sum(count_array), 'of ', (int(t1/dt)+1), 'runs.')"
   ]
  },
  {
   "cell_type": "code",
   "execution_count": 29,
   "metadata": {},
   "outputs": [],
   "source": [
    "## DEBUGGING\n",
    "#print(t_array[idx], t_array[idx-1])\n",
    "#print(T_array[idx], T_array[idx-1])\n",
    "#print(W_m_array[idx], W_m_array[idx-1])\n",
    "#print(W_s_array[idx], W_s_array[idx-1])\n",
    "#print(regas_array[idx], regas_array[idx-1])\n",
    "#print(degas_array[idx], degas_array[idx-1])\n",
    "#print(T_surf_array[idx], T_surf_array[idx-1])\n",
    "#print(T_strat_array[idx], T_strat_array[idx-1])\n",
    "#print(TOA_flux_array[idx], TOA_flux_array[idx-1])\n",
    "#print(loss_array[idx], loss_array[idx-1])\n",
    "#print(EL_array[idx], EL_array[idx-1])\n",
    "#print(DL_array[idx], DL_array[idx-1])\n",
    "#print(M_H2O_array[idx], M_H2O_array[idx-1])\n",
    "#print(P_eff_array[idx], P_eff_array[idx-1])\n",
    "#print(P_surf_array[idx], P_surf_array[idx-1])\n",
    "#print(t_array[idx]/year/1.0e9)"
   ]
  },
  {
   "cell_type": "markdown",
   "metadata": {},
   "source": [
    "# Plot the simulation results."
   ]
  },
  {
   "cell_type": "code",
   "execution_count": 30,
   "metadata": {
    "scrolled": false
   },
   "outputs": [
    {
     "name": "stderr",
     "output_type": "stream",
     "text": [
      "/Users/admin/anaconda3/lib/python3.7/site-packages/matplotlib/figure.py:98: MatplotlibDeprecationWarning: \n",
      "Adding an axes using the same arguments as a previous axes currently reuses the earlier instance.  In a future version, a new instance will always be created and returned.  Meanwhile, this warning can be suppressed, and the future behavior ensured, by passing a unique label to each axes instance.\n",
      "  \"Adding an axes using the same arguments as a previous axes \"\n"
     ]
    },
    {
     "data": {
      "text/plain": [
       "<matplotlib.legend.Legend at 0x7f8d8b129f98>"
      ]
     },
     "execution_count": 30,
     "metadata": {},
     "output_type": "execute_result"
    },
    {
     "data": {
      "image/png": "[encoded data removed]",
      "text/plain": [
       "<Figure size 612x720 with 2 Axes>"
      ]
     },
     "metadata": {
      "needs_background": "light"
     },
     "output_type": "display_data"
    }
   ],
   "source": [
    "%matplotlib inline\n",
    "plt.rc('font', family='serif')\n",
    "plt.rc('xtick', labelsize=16)\n",
    "plt.rc('ytick', labelsize=16)\n",
    "fig = plt.figure(figsize=(8.5,10))\n",
    "plt.tight_layout()\n",
    "ax = [fig.add_subplot(2,1,i+1) for i in range(2)]\n",
    "fig.subplots_adjust(hspace=0)\n",
    "\n",
    "ax1 = plt.subplot(2,1,1)\n",
    "#plt.loglog(t_array/year/1.0e9, W_m_array/1.4e21, linewidth=3, color='r', linestyle=':', label='Mantle')\n",
    "#plt.loglog(t_array/year/1.0e9, W_s_array/1.4e21, linewidth=3, color='b', linestyle='--', label='Surface')\n",
    "plt.semilogx(t_array[0:idx-1]/year/1.0e9, W_m_array[0:idx-1]/1.4e21, linewidth=3, color='r', linestyle=':', label='Mantle')\n",
    "plt.semilogx(t_array[0:idx-1]/year/1.0e9, W_s_array[0:idx-1]/1.4e21, linewidth=3, color='b', linestyle='--', label='Surface')\n",
    "plt.axhline(y=1.29e16/1.4e21, color='k', linestyle=':',linewidth=3, label='Desiccation Limit')\n",
    "\n",
    "plt.xlabel('Time [Gyr]', fontsize=16)\n",
    "plt.xlim([0.05, 5.0])\n",
    "plt.ylabel(r'Water Mass [TO]', fontsize=16)\n",
    "plt.legend(loc='upper right', fontsize=16)\n",
    "\n",
    "ax2 = plt.subplot(2,1,2)\n",
    "plt.loglog(t_array[0:idx-1]/year/1.0e9, degas_array[0:idx-1]/1.4e21*year*1.0e9, linewidth=3, color='b', linestyle='--', label='Degassing')\n",
    "plt.loglog(t_array[0:idx-1]/year/1.0e9, regas_array[0:idx-1]/1.4e21*year*1.0e9, linewidth=3, color='r', linestyle=':', label='Regassing')\n",
    "plt.loglog(t_array[0:idx-1]/year/1.0e9, loss_array[0:idx-1]/1.4e21*year*1.0e9, linewidth=3, color='k', linestyle='-.', label='Loss to Space')\n",
    "\n",
    "plt.xlabel('Time [Gyr]', fontsize=16)\n",
    "plt.xlim([0.05, 5.0])\n",
    "plt.ylabel(r'Cycling Rate [TO/Gyr]', fontsize=16)\n",
    "plt.legend(loc='lower left', fontsize=16)\n",
    "#plt.ylim([-0.05,650.])\n",
    "#plt.legend(bbox_to_anchor=(0.0, 1.0), ncol=2, fontsize=16)\n",
    "\n",
    "#plt.savefig('Cycling_Loss_1DAtmos_1TO_loglog.pdf', bbox_inches='tight')\n",
    "#plt.savefig('Cycling_Loss_1DAtmos_1TO_loglog_Psurf_0d01bar.pdf', bbox_inches='tight')\n",
    "#plt.savefig('Cycling_Loss_1DAtmos_1TO_loglog_Psurf_270bar.pdf', bbox_inches='tight')"
   ]
  },
  {
   "cell_type": "code",
   "execution_count": 31,
   "metadata": {},
   "outputs": [
    {
     "name": "stderr",
     "output_type": "stream",
     "text": [
      "/Users/admin/anaconda3/lib/python3.7/site-packages/matplotlib/figure.py:98: MatplotlibDeprecationWarning: \n",
      "Adding an axes using the same arguments as a previous axes currently reuses the earlier instance.  In a future version, a new instance will always be created and returned.  Meanwhile, this warning can be suppressed, and the future behavior ensured, by passing a unique label to each axes instance.\n",
      "  \"Adding an axes using the same arguments as a previous axes \"\n"
     ]
    },
    {
     "data": {
      "text/plain": [
       "<matplotlib.legend.Legend at 0x7f8d9456b828>"
      ]
     },
     "execution_count": 31,
     "metadata": {},
     "output_type": "execute_result"
    },
    {
     "data": {
      "image/png": "[encoded data removed]",
      "text/plain": [
       "<Figure size 612x864 with 2 Axes>"
      ]
     },
     "metadata": {
      "needs_background": "light"
     },
     "output_type": "display_data"
    }
   ],
   "source": [
    "# Plot TOA flux over time, and a horizontal line with Goldblatt/Watson limit of 300 W/m^2.\n",
    "# First, find where runaway greenhouse ends, to be plotted as a vertical line.\n",
    "for idx in range(0, len(t_array)):\n",
    "    \n",
    "    if TOA_flux_array[idx]/4. < 282./(1.-alb):\n",
    "        \n",
    "        exit_time = t_array[idx]\n",
    "        exit_idx = idx\n",
    "        break\n",
    "\n",
    "%matplotlib inline\n",
    "plt.rc('font', family='serif')\n",
    "plt.rc('xtick', labelsize=16)\n",
    "plt.rc('ytick', labelsize=16)\n",
    "fig = plt.figure(figsize=(8.5,12))\n",
    "plt.tight_layout()\n",
    "ax = [fig.add_subplot(2,1,i+1) for i in range(2)]\n",
    "fig.subplots_adjust(hspace=0)\n",
    "\n",
    "ax1 = plt.subplot(2, 1, 1)\n",
    "plt.loglog(t_array/year/1.0e9, TOA_flux_array/4, linewidth=3, color='b') #divide by 4 for sphere\n",
    "plt.axhline(282./(1.-alb), color='k', linestyle='--', label='Simpson-Nakajima limit')\n",
    "plt.axvline(exit_time/year/1.0e9, color='k', linestyle='-.')\n",
    "#plt.xlabel('Time [Gyr]', fontsize=16)\n",
    "plt.xlim([0.05, 5.0])\n",
    "plt.ylabel(r'TOA Flux/4 [W/m$^2$]', fontsize=16)\n",
    "plt.legend(fontsize=16, loc='upper right')\n",
    "\n",
    "ax2 = plt.subplot(2, 1, 2)\n",
    "plt.loglog(t_array/year/1.0e9, EL_array, linewidth=3, color='r', linestyle='--', label='energy-limited')\n",
    "plt.loglog(t_array/year/1.0e9, DL_array, linewidth=3, color='g', linestyle='--', label='diffusion-limited')\n",
    "plt.axvline(exit_time/year/1.0e9, color='k', linestyle='-.')\n",
    "#Plot in bold the actual loss prescription being followed, based on TOA flux runaway greenhouse limit.\n",
    "plt.loglog(t_array/year/1.0e9, loss_array, linewidth=3, color='k', label='loss to space')\n",
    "plt.xlabel('Time [Gyr]', fontsize=16)\n",
    "plt.xlim([0.05, 5.0])\n",
    "plt.ylabel('Escape rate [kg/s]', fontsize=16)\n",
    "plt.legend(fontsize=16, loc='lower left')\n",
    "\n",
    "#plt.savefig('Cycling_Loss_1DAtmos_1TO_TOAFlux_LossRates_loglog.pdf', bbox_inches='tight')\n",
    "#plt.savefig('Cycling_Loss_1DAtmos_1TO_TOAFlux_LossRates_loglog_Psurf_0d01bar.pdf', bbox_inches='tight')\n",
    "#plt.savefig('Cycling_Loss_1DAtmos_1TO_TOAFlux_LossRates_loglog_Psurf_270bar.pdf', bbox_inches='tight')"
   ]
  },
  {
   "cell_type": "code",
   "execution_count": 32,
   "metadata": {},
   "outputs": [
    {
     "name": "stdout",
     "output_type": "stream",
     "text": [
      "Minimum surface temperature =  207.7448813263947 K\n"
     ]
    },
    {
     "data": {
      "image/png": "[encoded data removed]",
      "text/plain": [
       "<Figure size 612x432 with 1 Axes>"
      ]
     },
     "metadata": {
      "needs_background": "light"
     },
     "output_type": "display_data"
    }
   ],
   "source": [
    "%matplotlib inline\n",
    "plt.rc('font', family='serif')\n",
    "plt.rc('xtick', labelsize=16)\n",
    "plt.rc('ytick', labelsize=16)\n",
    "fig = plt.figure(figsize=(8.5,6))\n",
    "plt.tight_layout()\n",
    "ax = [fig.add_subplot(1,1,i+1) for i in range(1)]\n",
    "fig.subplots_adjust(hspace=0)\n",
    "\n",
    "plt.semilogx(t_array/year/1.0e9, T_surf_array, linewidth=3)\n",
    "plt.axvline(exit_time/year/1.0e9, color='k', linestyle='-.')\n",
    "plt.xlabel('Time [Gyr]', fontsize=16)\n",
    "plt.xlim([0.05, 5.0])\n",
    "plt.ylabel(r'$T_{{\\mathrm{{surf}}}}$ [K]', fontsize=16)\n",
    "print('Minimum surface temperature = ', np.min(T_surf_array), 'K')"
   ]
  },
  {
   "cell_type": "code",
   "execution_count": 33,
   "metadata": {},
   "outputs": [
    {
     "data": {
      "text/plain": [
       "Text(0, 0.5, '$M_{{\\\\mathrm{{H_2O, atmos}}}}$ [TO]')"
      ]
     },
     "execution_count": 33,
     "metadata": {},
     "output_type": "execute_result"
    },
    {
     "data": {
      "image/png": "[encoded data removed]",
      "text/plain": [
       "<Figure size 612x432 with 1 Axes>"
      ]
     },
     "metadata": {
      "needs_background": "light"
     },
     "output_type": "display_data"
    }
   ],
   "source": [
    "%matplotlib inline\n",
    "plt.rc('font', family='serif')\n",
    "plt.rc('xtick', labelsize=16)\n",
    "plt.rc('ytick', labelsize=16)\n",
    "fig = plt.figure(figsize=(8.5,6))\n",
    "plt.tight_layout()\n",
    "ax = [fig.add_subplot(1,1,i+1) for i in range(1)]\n",
    "fig.subplots_adjust(hspace=0)\n",
    "\n",
    "plt.semilogx(t_array/year/1.0e9, M_H2O_array/1.4e21)\n",
    "plt.axvline(exit_time/year/1.0e9, color='k', linestyle='-.')\n",
    "plt.xlabel('Time [Gyr]', fontsize=16)\n",
    "plt.xlim([0.05, 5.0])\n",
    "plt.ylabel(r'$M_{{\\mathrm{{H_2O, atmos}}}}$ [TO]', fontsize=16)\n",
    "#plt.savefig('AtmosphereWaterMass_OverTime_2TOtotal_lowerRGTsurf.pdf', bbox_inches='tight')"
   ]
  },
  {
   "cell_type": "markdown",
   "metadata": {},
   "source": [
    "## Plot simulation results, colour-coded based on surface water regimes."
   ]
  },
  {
   "cell_type": "code",
   "execution_count": 34,
   "metadata": {},
   "outputs": [
    {
     "name": "stdout",
     "output_type": "stream",
     "text": [
      "-1 -1\n"
     ]
    }
   ],
   "source": [
    "# Mark where surface becomes desiccated, then where it begins recovering.\n",
    "tolerance = 1.29e16\n",
    "\n",
    "dune_first_idx = -1\n",
    "for ldx in range(0,len(W_s_array)):\n",
    "    if W_s_array[ldx] <= (0.01*1.4e21):\n",
    "        dune_first_idx = ldx\n",
    "        break\n",
    "\n",
    "desiccated_idx = -1\n",
    "if dune_first_idx >= 0:\n",
    "    for idx in range(dune_first_idx+1,len(W_s_array)):\n",
    "        if W_s_array[idx] <= tolerance:\n",
    "            desiccated_idx = idx\n",
    "            break\n",
    "        \n",
    "recover_idx = -1\n",
    "if desiccated_idx >= 0:\n",
    "    for jdx in range(desiccated_idx+1,len(W_s_array)):\n",
    "        if W_s_array[jdx] >= tolerance:\n",
    "            recover_idx = jdx\n",
    "            break\n",
    "                     \n",
    "dune_idx = -1\n",
    "if recover_idx >= 0:\n",
    "    for kdx in range(recover_idx+1,len(W_s_array)):\n",
    "        if W_s_array[kdx] >= (0.01*1.4e21):\n",
    "            dune_idx = kdx\n",
    "            break\n",
    "            \n",
    "print(desiccated_idx, recover_idx)"
   ]
  },
  {
   "cell_type": "code",
   "execution_count": 35,
   "metadata": {},
   "outputs": [
    {
     "name": "stderr",
     "output_type": "stream",
     "text": [
      "/Users/admin/anaconda3/lib/python3.7/site-packages/matplotlib/figure.py:98: MatplotlibDeprecationWarning: \n",
      "Adding an axes using the same arguments as a previous axes currently reuses the earlier instance.  In a future version, a new instance will always be created and returned.  Meanwhile, this warning can be suppressed, and the future behavior ensured, by passing a unique label to each axes instance.\n",
      "  \"Adding an axes using the same arguments as a previous axes \"\n"
     ]
    },
    {
     "data": {
      "text/plain": [
       "Text(0, 0.5, '$T_{{\\\\mathrm{{surf}}}}$ [K]')"
      ]
     },
     "execution_count": 35,
     "metadata": {},
     "output_type": "execute_result"
    },
    {
     "data": {
      "image/png": "[encoded data removed]",
      "text/plain": [
       "<Figure size 612x1080 with 3 Axes>"
      ]
     },
     "metadata": {
      "needs_background": "light"
     },
     "output_type": "display_data"
    }
   ],
   "source": [
    "%matplotlib inline\n",
    "plt.rc('font', family='serif')\n",
    "plt.rc('xtick', labelsize=16)\n",
    "plt.rc('ytick', labelsize=16)\n",
    "fig = plt.figure(figsize=(8.5,15))\n",
    "plt.tight_layout()\n",
    "ax = [fig.add_subplot(3,1,i+1) for i in range(3)]\n",
    "fig.subplots_adjust(hspace=0)\n",
    "\n",
    "###### WATER INVENTORY VS. TIME ######\n",
    "ax1 = plt.subplot(3,1,1)\n",
    "#plt.loglog(t_array/year/1.0e9, W_m_array/1.4e21, linewidth=3, color='r', linestyle=':', label='Mantle')\n",
    "#plt.loglog(t_array/year/1.0e9, W_s_array/1.4e21, linewidth=3, color='b', linestyle='--', label='Surface')\n",
    "plt.loglog(t_array/year/1.0e9, W_m_array/1.4e21, linewidth=3, color='r', linestyle=':', label='Mantle')\n",
    "plt.loglog(t_array/year/1.0e9, W_s_array/1.4e21, linewidth=3, color='b', linestyle='--', label='Surface')\n",
    "plt.axhline(y=1.29e16/1.4e21, color='k', linestyle=':',linewidth=3)\n",
    "plt.axvline(exit_time/year/1.0e9, color='k', linestyle='-.', label='End RG')\n",
    "\n",
    "# FILL IN REGION WHERE IT IS EARTH-LIKE\n",
    "plt.axvspan(1.0e-4,t_array[dune_first_idx]/year/1.0e9,alpha=0.5,color='green')\n",
    "# FILL IN REGION WHERE IT FIRST BECOMES DUNE\n",
    "plt.axvspan(t_array[dune_first_idx]/year/1.0e9, t_array[desiccated_idx]/year/1.0e9, alpha=0.5, color='chocolate')\n",
    "#FILL-IN REGION WHERE IT IS DESICCATED\n",
    "plt.axvspan(t_array[desiccated_idx]/year/1.0e9, t_array[recover_idx]/year/1.0e9, alpha=0.5, color='grey')\n",
    "# FILL IN REGION WHERE IT IS A DUNE PLANET\n",
    "plt.axvspan(t_array[recover_idx]/year/1.0e9, t_array[dune_idx]/year/1.0e9, alpha=0.5, color='chocolate')\n",
    "\n",
    "plt.xlabel('Time [Gyr]', fontsize=16)\n",
    "plt.xlim([0.05, 5.0])\n",
    "plt.ylabel(r'Water Mass [TO]', fontsize=16)\n",
    "plt.legend(loc='center left', fontsize=16)\n",
    "\n",
    "####### CYCLING & LOSS RATES VS. TIME #######\n",
    "ax2 = plt.subplot(3,1,2)\n",
    "#plt.loglog(t_array/year/1.0e9, degas_array/1.4e21*year*1.0e9, linewidth=3, color='b', linestyle='--', label='Degassing')\n",
    "#plt.loglog(t_array/year/1.0e9, regas_array/1.4e21*year*1.0e9, linewidth=3, color='r', linestyle=':', label='Regassing')\n",
    "#plt.loglog(t_array/year/1.0e9, loss_array/1.4e21*year*1.0e9, linewidth=3, color='k', linestyle='-.', label='Loss to Space')\n",
    "plt.semilogx(t_array/year/1.0e9, degas_array/1.4e21*year*1.0e9, linewidth=3, color='b', linestyle='--', label='Degassing')\n",
    "plt.semilogx(t_array/year/1.0e9, regas_array/1.4e21*year*1.0e9, linewidth=3, color='r', linestyle=':', label='Regassing')\n",
    "plt.semilogx(t_array/year/1.0e9, loss_array/1.4e21*year*1.0e9, linewidth=3, color='k', linestyle='-.', label='Loss to Space')\n",
    "plt.axvline(exit_time/year/1.0e9, color='k', linestyle='-.')\n",
    "\n",
    "# FILL IN REGION WHERE IT IS EARTH-LIKE\n",
    "plt.axvspan(1.0e-4,t_array[dune_first_idx]/year/1.0e9,alpha=0.5,color='green')\n",
    "# FILL IN REGION WHERE IT FIRST BECOMES DUNE\n",
    "plt.axvspan(t_array[dune_first_idx]/year/1.0e9, t_array[desiccated_idx]/year/1.0e9, alpha=0.5, color='chocolate')\n",
    "#FILL-IN REGION WHERE IT IS DESICCATED\n",
    "plt.axvspan(t_array[desiccated_idx]/year/1.0e9, t_array[recover_idx]/year/1.0e9, alpha=0.5, color='grey')\n",
    "# FILL IN REGION WHERE IT IS A DUNE PLANET\n",
    "plt.axvspan(t_array[recover_idx]/year/1.0e9, t_array[dune_idx]/year/1.0e9, alpha=0.5, color='chocolate')\n",
    "\n",
    "plt.xlabel('Time [Gyr]', fontsize=16)\n",
    "plt.xlim([0.05, 5.0])\n",
    "plt.ylabel(r'Cycling Rate [TO/Gyr]', fontsize=16)\n",
    "plt.legend(loc='center left', fontsize=16)\n",
    "#plt.ylim([-0.05,650.])\n",
    "#plt.legend(bbox_to_anchor=(0.0, 1.0), ncol=2, fontsize=16)\n",
    "\n",
    "###### SURFACE TEMPERATURE VS. TIME #######\n",
    "ax3 = plt.subplot(3,1,3)\n",
    "plt.semilogx(t_array/year/1.0e9, T_surf_array, color='k', linewidth=3)\n",
    "\n",
    "# FILL IN REGION WHERE IT IS EARTH-LIKE\n",
    "plt.axvspan(1.0e-4,t_array[dune_first_idx]/year/1.0e9,alpha=0.5,color='green')\n",
    "# FILL IN REGION WHERE IT FIRST BECOMES DUNE\n",
    "plt.axvspan(t_array[dune_first_idx]/year/1.0e9, t_array[desiccated_idx]/year/1.0e9, alpha=0.5, color='chocolate')\n",
    "#FILL-IN REGION WHERE IT IS DESICCATED\n",
    "plt.axvspan(t_array[desiccated_idx]/year/1.0e9, t_array[recover_idx]/year/1.0e9, alpha=0.5, color='grey')\n",
    "# FILL IN REGION WHERE IT IS A DUNE PLANET\n",
    "plt.axvspan(t_array[recover_idx]/year/1.0e9, t_array[dune_idx]/year/1.0e9, alpha=0.5, color='chocolate')\n",
    "\n",
    "plt.axvline(exit_time/year/1.0e9, color='k', linestyle='-.')\n",
    "plt.xlabel('Time [Gyr]', fontsize=16)\n",
    "plt.xlim([0.05, 5.0])\n",
    "plt.ylabel(r'$T_{{\\mathrm{{surf}}}}$ [K]', fontsize=16)\n",
    "\n",
    "#plt.savefig('Cycling_Loss_1DAtmos_2TOtotal_coloured_linearyaxis.pdf', bbox_inches='tight')\n",
    "#plt.savefig('Cycling_Loss_1DAtmos_1TO_loglog_Psurf_0d01bar.pdf', bbox_inches='tight')\n",
    "#plt.savefig('Cycling_Loss_1DAtmos_1TO_loglog_Psurf_270bar.pdf', bbox_inches='tight')"
   ]
  },
  {
   "cell_type": "code",
   "execution_count": 36,
   "metadata": {
    "scrolled": true
   },
   "outputs": [
    {
     "name": "stdout",
     "output_type": "stream",
     "text": [
      "Planet leaves runaway greenhouse at  0.10562  Gyr\n"
     ]
    }
   ],
   "source": [
    "\n",
    "print('Planet leaves runaway greenhouse at ', (exit_time+50.0e6*year)/year/1.0e9, ' Gyr')"
   ]
  }
 ],
 "metadata": {
  "kernelspec": {
   "display_name": "Python 3",
   "language": "python",
   "name": "python3"
  },
  "language_info": {
   "codemirror_mode": {
    "name": "ipython",
    "version": 3
   },
   "file_extension": ".py",
   "mimetype": "text/x-python",
   "name": "python",
   "nbconvert_exporter": "python",
   "pygments_lexer": "ipython3",
   "version": "3.7.2"
  }
 },
 "nbformat": 4,
 "nbformat_minor": 2
}
